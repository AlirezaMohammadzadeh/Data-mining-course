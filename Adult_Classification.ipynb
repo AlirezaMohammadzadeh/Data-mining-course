{
  "nbformat": 4,
  "nbformat_minor": 0,
  "metadata": {
    "colab": {
      "provenance": [],
      "include_colab_link": true
    },
    "kernelspec": {
      "name": "python3",
      "display_name": "Python 3"
    },
    "language_info": {
      "name": "python"
    }
  },
  "cells": [
    {
      "cell_type": "markdown",
      "metadata": {
        "id": "view-in-github",
        "colab_type": "text"
      },
      "source": [
        "<a href=\"https://colab.research.google.com/github/AlirezaMohammadzadeh/Data-mining-course-/blob/main/Adult_Classification.ipynb\" target=\"_parent\"><img src=\"https://colab.research.google.com/assets/colab-badge.svg\" alt=\"Open In Colab\"/></a>"
      ]
    },
    {
      "cell_type": "markdown",
      "source": [
        "\n",
        "\n",
        "```\n",
        "# This is formatted as code\n",
        "```\n",
        "\n",
        "# Code"
      ],
      "metadata": {
        "id": "GtJGdt8apK7z"
      }
    },
    {
      "cell_type": "markdown",
      "source": [
        "**Import Libraries**"
      ],
      "metadata": {
        "id": "Na_tG5n0jJcH"
      }
    },
    {
      "cell_type": "code",
      "execution_count": 1,
      "metadata": {
        "id": "kFsHpXfGhFH0"
      },
      "outputs": [],
      "source": [
        "\"\"\"\n",
        "Data Mining (Dr. Shakeri)\n",
        "Project 2 (TA)\n",
        "Group ID: 15\n",
        "Group Members: Alireza Mohamadzadeh 9913024, \n",
        "               Javad Fazli 9913019,\n",
        "               Pouria Alimoradpor 9912035\n",
        "\"\"\"\n",
        "import numpy as np\n",
        "import pandas as pd\n",
        "import seaborn as sns\n",
        "import matplotlib.pyplot as plt\n",
        "from sklearn.model_selection import train_test_split\n",
        "from sklearn.neighbors import KNeighborsClassifier\n",
        "from sklearn.svm import SVC\n",
        "from sklearn import tree\n",
        "from sklearn.tree import DecisionTreeClassifier\n",
        "from sklearn.metrics import f1_score, recall_score, precision_score, accuracy_score, classification_report, confusion_matrix\n",
        "from sklearn.preprocessing import OneHotEncoder\n",
        "from sklearn.preprocessing import MinMaxScaler"
      ]
    },
    {
      "cell_type": "code",
      "source": [
        "!gdown 1aWsBqY0-6-hrDF36CQGu1noGg71_daus  #Train\n",
        "!gdown 1QdyrEeztAKy16BN2h_h2hwtN-AN0xLGE  #Test"
      ],
      "metadata": {
        "colab": {
          "base_uri": "https://localhost:8080/"
        },
        "id": "hRs0KOjGMUAy",
        "outputId": "b0092eec-a9da-4119-b06d-77c0814b5f1c"
      },
      "execution_count": 2,
      "outputs": [
        {
          "output_type": "stream",
          "name": "stdout",
          "text": [
            "Downloading...\n",
            "From: https://drive.google.com/uc?id=1aWsBqY0-6-hrDF36CQGu1noGg71_daus\n",
            "To: /content/Adult_TrainDataset.csv\n",
            "100% 3.55M/3.55M [00:00<00:00, 100MB/s]\n",
            "Downloading...\n",
            "From: https://drive.google.com/uc?id=1QdyrEeztAKy16BN2h_h2hwtN-AN0xLGE\n",
            "To: /content/Adult_TestDataset.csv\n",
            "100% 1.78M/1.78M [00:00<00:00, 104MB/s]\n"
          ]
        }
      ]
    },
    {
      "cell_type": "markdown",
      "source": [
        "**Read Dataset**"
      ],
      "metadata": {
        "id": "4ErZw1hBlLl5"
      }
    },
    {
      "cell_type": "code",
      "source": [
        "df_train = pd.read_csv(\"/content/Adult_TrainDataset.csv\")\n",
        "df_test = pd.read_csv(\"/content/Adult_TestDataset.csv\")"
      ],
      "metadata": {
        "id": "8NTYlxAvlTXA"
      },
      "execution_count": 3,
      "outputs": []
    },
    {
      "cell_type": "code",
      "source": [
        "df_train['Set'] = 'Train'\n",
        "df_test['Set'] = 'Test'\n",
        "\n",
        "# Concatenate the DataFrames vertically\n",
        "combined_df = pd.concat([df_train, df_test], ignore_index=True)"
      ],
      "metadata": {
        "id": "-cpDtbwCVZy8"
      },
      "execution_count": 4,
      "outputs": []
    },
    {
      "cell_type": "code",
      "source": [
        "combined_df"
      ],
      "metadata": {
        "colab": {
          "base_uri": "https://localhost:8080/",
          "height": 695
        },
        "id": "MqfvPNHyqBhH",
        "outputId": "5e8df345-c851-43e1-ede6-e401145000b4"
      },
      "execution_count": 5,
      "outputs": [
        {
          "output_type": "execute_result",
          "data": {
            "text/plain": [
              "       Age        Work_Class  Final_Weight  Education  Education-Number  \\\n",
              "0       39         State-gov         77516  Bachelors                13   \n",
              "1       50  Self-emp-not-inc         83311  Bachelors                13   \n",
              "2       38           Private        215646    HS-grad                 9   \n",
              "3       53           Private        234721       11th                 7   \n",
              "4       28           Private        338409  Bachelors                13   \n",
              "...    ...               ...           ...        ...               ...   \n",
              "48837   39           Private        215419  Bachelors                13   \n",
              "48838   64                 ?        321403    HS-grad                 9   \n",
              "48839   38           Private        374983  Bachelors                13   \n",
              "48840   44           Private         83891  Bachelors                13   \n",
              "48841   35      Self-emp-inc        182148  Bachelors                13   \n",
              "\n",
              "           Marital_Status         Occupation    Relationship  \\\n",
              "0           Never-married       Adm-clerical   Not-in-family   \n",
              "1      Married-civ-spouse    Exec-managerial         Husband   \n",
              "2                Divorced  Handlers-cleaners   Not-in-family   \n",
              "3      Married-civ-spouse  Handlers-cleaners         Husband   \n",
              "4      Married-civ-spouse     Prof-specialty            Wife   \n",
              "...                   ...                ...             ...   \n",
              "48837            Divorced     Prof-specialty   Not-in-family   \n",
              "48838             Widowed                  ?  Other-relative   \n",
              "48839  Married-civ-spouse     Prof-specialty         Husband   \n",
              "48840            Divorced       Adm-clerical       Own-child   \n",
              "48841  Married-civ-spouse    Exec-managerial         Husband   \n",
              "\n",
              "                     Race     Sex  Capital_Gain  Capital_Loss  Hours-Per-Week  \\\n",
              "0                   White    Male          2174             0              40   \n",
              "1                   White    Male             0             0              13   \n",
              "2                   White    Male             0             0              40   \n",
              "3                   Black    Male             0             0              40   \n",
              "4                   Black  Female             0             0              40   \n",
              "...                   ...     ...           ...           ...             ...   \n",
              "48837               White  Female             0             0              36   \n",
              "48838               Black    Male             0             0              40   \n",
              "48839               White    Male             0             0              50   \n",
              "48840  Asian-Pac-Islander    Male          5455             0              40   \n",
              "48841               White    Male             0             0              60   \n",
              "\n",
              "      Native_Country Income    Set  \n",
              "0      United-States  <=50K  Train  \n",
              "1      United-States  <=50K  Train  \n",
              "2      United-States  <=50K  Train  \n",
              "3      United-States  <=50K  Train  \n",
              "4               Cuba  <=50K  Train  \n",
              "...              ...    ...    ...  \n",
              "48837  United-States  <=50K   Test  \n",
              "48838  United-States  <=50K   Test  \n",
              "48839  United-States  <=50K   Test  \n",
              "48840  United-States  <=50K   Test  \n",
              "48841  United-States   >50K   Test  \n",
              "\n",
              "[48842 rows x 16 columns]"
            ],
            "text/html": [
              "\n",
              "  <div id=\"df-c34325ca-05e2-4be7-aa41-85122191c667\">\n",
              "    <div class=\"colab-df-container\">\n",
              "      <div>\n",
              "<style scoped>\n",
              "    .dataframe tbody tr th:only-of-type {\n",
              "        vertical-align: middle;\n",
              "    }\n",
              "\n",
              "    .dataframe tbody tr th {\n",
              "        vertical-align: top;\n",
              "    }\n",
              "\n",
              "    .dataframe thead th {\n",
              "        text-align: right;\n",
              "    }\n",
              "</style>\n",
              "<table border=\"1\" class=\"dataframe\">\n",
              "  <thead>\n",
              "    <tr style=\"text-align: right;\">\n",
              "      <th></th>\n",
              "      <th>Age</th>\n",
              "      <th>Work_Class</th>\n",
              "      <th>Final_Weight</th>\n",
              "      <th>Education</th>\n",
              "      <th>Education-Number</th>\n",
              "      <th>Marital_Status</th>\n",
              "      <th>Occupation</th>\n",
              "      <th>Relationship</th>\n",
              "      <th>Race</th>\n",
              "      <th>Sex</th>\n",
              "      <th>Capital_Gain</th>\n",
              "      <th>Capital_Loss</th>\n",
              "      <th>Hours-Per-Week</th>\n",
              "      <th>Native_Country</th>\n",
              "      <th>Income</th>\n",
              "      <th>Set</th>\n",
              "    </tr>\n",
              "  </thead>\n",
              "  <tbody>\n",
              "    <tr>\n",
              "      <th>0</th>\n",
              "      <td>39</td>\n",
              "      <td>State-gov</td>\n",
              "      <td>77516</td>\n",
              "      <td>Bachelors</td>\n",
              "      <td>13</td>\n",
              "      <td>Never-married</td>\n",
              "      <td>Adm-clerical</td>\n",
              "      <td>Not-in-family</td>\n",
              "      <td>White</td>\n",
              "      <td>Male</td>\n",
              "      <td>2174</td>\n",
              "      <td>0</td>\n",
              "      <td>40</td>\n",
              "      <td>United-States</td>\n",
              "      <td>&lt;=50K</td>\n",
              "      <td>Train</td>\n",
              "    </tr>\n",
              "    <tr>\n",
              "      <th>1</th>\n",
              "      <td>50</td>\n",
              "      <td>Self-emp-not-inc</td>\n",
              "      <td>83311</td>\n",
              "      <td>Bachelors</td>\n",
              "      <td>13</td>\n",
              "      <td>Married-civ-spouse</td>\n",
              "      <td>Exec-managerial</td>\n",
              "      <td>Husband</td>\n",
              "      <td>White</td>\n",
              "      <td>Male</td>\n",
              "      <td>0</td>\n",
              "      <td>0</td>\n",
              "      <td>13</td>\n",
              "      <td>United-States</td>\n",
              "      <td>&lt;=50K</td>\n",
              "      <td>Train</td>\n",
              "    </tr>\n",
              "    <tr>\n",
              "      <th>2</th>\n",
              "      <td>38</td>\n",
              "      <td>Private</td>\n",
              "      <td>215646</td>\n",
              "      <td>HS-grad</td>\n",
              "      <td>9</td>\n",
              "      <td>Divorced</td>\n",
              "      <td>Handlers-cleaners</td>\n",
              "      <td>Not-in-family</td>\n",
              "      <td>White</td>\n",
              "      <td>Male</td>\n",
              "      <td>0</td>\n",
              "      <td>0</td>\n",
              "      <td>40</td>\n",
              "      <td>United-States</td>\n",
              "      <td>&lt;=50K</td>\n",
              "      <td>Train</td>\n",
              "    </tr>\n",
              "    <tr>\n",
              "      <th>3</th>\n",
              "      <td>53</td>\n",
              "      <td>Private</td>\n",
              "      <td>234721</td>\n",
              "      <td>11th</td>\n",
              "      <td>7</td>\n",
              "      <td>Married-civ-spouse</td>\n",
              "      <td>Handlers-cleaners</td>\n",
              "      <td>Husband</td>\n",
              "      <td>Black</td>\n",
              "      <td>Male</td>\n",
              "      <td>0</td>\n",
              "      <td>0</td>\n",
              "      <td>40</td>\n",
              "      <td>United-States</td>\n",
              "      <td>&lt;=50K</td>\n",
              "      <td>Train</td>\n",
              "    </tr>\n",
              "    <tr>\n",
              "      <th>4</th>\n",
              "      <td>28</td>\n",
              "      <td>Private</td>\n",
              "      <td>338409</td>\n",
              "      <td>Bachelors</td>\n",
              "      <td>13</td>\n",
              "      <td>Married-civ-spouse</td>\n",
              "      <td>Prof-specialty</td>\n",
              "      <td>Wife</td>\n",
              "      <td>Black</td>\n",
              "      <td>Female</td>\n",
              "      <td>0</td>\n",
              "      <td>0</td>\n",
              "      <td>40</td>\n",
              "      <td>Cuba</td>\n",
              "      <td>&lt;=50K</td>\n",
              "      <td>Train</td>\n",
              "    </tr>\n",
              "    <tr>\n",
              "      <th>...</th>\n",
              "      <td>...</td>\n",
              "      <td>...</td>\n",
              "      <td>...</td>\n",
              "      <td>...</td>\n",
              "      <td>...</td>\n",
              "      <td>...</td>\n",
              "      <td>...</td>\n",
              "      <td>...</td>\n",
              "      <td>...</td>\n",
              "      <td>...</td>\n",
              "      <td>...</td>\n",
              "      <td>...</td>\n",
              "      <td>...</td>\n",
              "      <td>...</td>\n",
              "      <td>...</td>\n",
              "      <td>...</td>\n",
              "    </tr>\n",
              "    <tr>\n",
              "      <th>48837</th>\n",
              "      <td>39</td>\n",
              "      <td>Private</td>\n",
              "      <td>215419</td>\n",
              "      <td>Bachelors</td>\n",
              "      <td>13</td>\n",
              "      <td>Divorced</td>\n",
              "      <td>Prof-specialty</td>\n",
              "      <td>Not-in-family</td>\n",
              "      <td>White</td>\n",
              "      <td>Female</td>\n",
              "      <td>0</td>\n",
              "      <td>0</td>\n",
              "      <td>36</td>\n",
              "      <td>United-States</td>\n",
              "      <td>&lt;=50K</td>\n",
              "      <td>Test</td>\n",
              "    </tr>\n",
              "    <tr>\n",
              "      <th>48838</th>\n",
              "      <td>64</td>\n",
              "      <td>?</td>\n",
              "      <td>321403</td>\n",
              "      <td>HS-grad</td>\n",
              "      <td>9</td>\n",
              "      <td>Widowed</td>\n",
              "      <td>?</td>\n",
              "      <td>Other-relative</td>\n",
              "      <td>Black</td>\n",
              "      <td>Male</td>\n",
              "      <td>0</td>\n",
              "      <td>0</td>\n",
              "      <td>40</td>\n",
              "      <td>United-States</td>\n",
              "      <td>&lt;=50K</td>\n",
              "      <td>Test</td>\n",
              "    </tr>\n",
              "    <tr>\n",
              "      <th>48839</th>\n",
              "      <td>38</td>\n",
              "      <td>Private</td>\n",
              "      <td>374983</td>\n",
              "      <td>Bachelors</td>\n",
              "      <td>13</td>\n",
              "      <td>Married-civ-spouse</td>\n",
              "      <td>Prof-specialty</td>\n",
              "      <td>Husband</td>\n",
              "      <td>White</td>\n",
              "      <td>Male</td>\n",
              "      <td>0</td>\n",
              "      <td>0</td>\n",
              "      <td>50</td>\n",
              "      <td>United-States</td>\n",
              "      <td>&lt;=50K</td>\n",
              "      <td>Test</td>\n",
              "    </tr>\n",
              "    <tr>\n",
              "      <th>48840</th>\n",
              "      <td>44</td>\n",
              "      <td>Private</td>\n",
              "      <td>83891</td>\n",
              "      <td>Bachelors</td>\n",
              "      <td>13</td>\n",
              "      <td>Divorced</td>\n",
              "      <td>Adm-clerical</td>\n",
              "      <td>Own-child</td>\n",
              "      <td>Asian-Pac-Islander</td>\n",
              "      <td>Male</td>\n",
              "      <td>5455</td>\n",
              "      <td>0</td>\n",
              "      <td>40</td>\n",
              "      <td>United-States</td>\n",
              "      <td>&lt;=50K</td>\n",
              "      <td>Test</td>\n",
              "    </tr>\n",
              "    <tr>\n",
              "      <th>48841</th>\n",
              "      <td>35</td>\n",
              "      <td>Self-emp-inc</td>\n",
              "      <td>182148</td>\n",
              "      <td>Bachelors</td>\n",
              "      <td>13</td>\n",
              "      <td>Married-civ-spouse</td>\n",
              "      <td>Exec-managerial</td>\n",
              "      <td>Husband</td>\n",
              "      <td>White</td>\n",
              "      <td>Male</td>\n",
              "      <td>0</td>\n",
              "      <td>0</td>\n",
              "      <td>60</td>\n",
              "      <td>United-States</td>\n",
              "      <td>&gt;50K</td>\n",
              "      <td>Test</td>\n",
              "    </tr>\n",
              "  </tbody>\n",
              "</table>\n",
              "<p>48842 rows × 16 columns</p>\n",
              "</div>\n",
              "      <button class=\"colab-df-convert\" onclick=\"convertToInteractive('df-c34325ca-05e2-4be7-aa41-85122191c667')\"\n",
              "              title=\"Convert this dataframe to an interactive table.\"\n",
              "              style=\"display:none;\">\n",
              "        \n",
              "  <svg xmlns=\"http://www.w3.org/2000/svg\" height=\"24px\"viewBox=\"0 0 24 24\"\n",
              "       width=\"24px\">\n",
              "    <path d=\"M0 0h24v24H0V0z\" fill=\"none\"/>\n",
              "    <path d=\"M18.56 5.44l.94 2.06.94-2.06 2.06-.94-2.06-.94-.94-2.06-.94 2.06-2.06.94zm-11 1L8.5 8.5l.94-2.06 2.06-.94-2.06-.94L8.5 2.5l-.94 2.06-2.06.94zm10 10l.94 2.06.94-2.06 2.06-.94-2.06-.94-.94-2.06-.94 2.06-2.06.94z\"/><path d=\"M17.41 7.96l-1.37-1.37c-.4-.4-.92-.59-1.43-.59-.52 0-1.04.2-1.43.59L10.3 9.45l-7.72 7.72c-.78.78-.78 2.05 0 2.83L4 21.41c.39.39.9.59 1.41.59.51 0 1.02-.2 1.41-.59l7.78-7.78 2.81-2.81c.8-.78.8-2.07 0-2.86zM5.41 20L4 18.59l7.72-7.72 1.47 1.35L5.41 20z\"/>\n",
              "  </svg>\n",
              "      </button>\n",
              "      \n",
              "  <style>\n",
              "    .colab-df-container {\n",
              "      display:flex;\n",
              "      flex-wrap:wrap;\n",
              "      gap: 12px;\n",
              "    }\n",
              "\n",
              "    .colab-df-convert {\n",
              "      background-color: #E8F0FE;\n",
              "      border: none;\n",
              "      border-radius: 50%;\n",
              "      cursor: pointer;\n",
              "      display: none;\n",
              "      fill: #1967D2;\n",
              "      height: 32px;\n",
              "      padding: 0 0 0 0;\n",
              "      width: 32px;\n",
              "    }\n",
              "\n",
              "    .colab-df-convert:hover {\n",
              "      background-color: #E2EBFA;\n",
              "      box-shadow: 0px 1px 2px rgba(60, 64, 67, 0.3), 0px 1px 3px 1px rgba(60, 64, 67, 0.15);\n",
              "      fill: #174EA6;\n",
              "    }\n",
              "\n",
              "    [theme=dark] .colab-df-convert {\n",
              "      background-color: #3B4455;\n",
              "      fill: #D2E3FC;\n",
              "    }\n",
              "\n",
              "    [theme=dark] .colab-df-convert:hover {\n",
              "      background-color: #434B5C;\n",
              "      box-shadow: 0px 1px 3px 1px rgba(0, 0, 0, 0.15);\n",
              "      filter: drop-shadow(0px 1px 2px rgba(0, 0, 0, 0.3));\n",
              "      fill: #FFFFFF;\n",
              "    }\n",
              "  </style>\n",
              "\n",
              "      <script>\n",
              "        const buttonEl =\n",
              "          document.querySelector('#df-c34325ca-05e2-4be7-aa41-85122191c667 button.colab-df-convert');\n",
              "        buttonEl.style.display =\n",
              "          google.colab.kernel.accessAllowed ? 'block' : 'none';\n",
              "\n",
              "        async function convertToInteractive(key) {\n",
              "          const element = document.querySelector('#df-c34325ca-05e2-4be7-aa41-85122191c667');\n",
              "          const dataTable =\n",
              "            await google.colab.kernel.invokeFunction('convertToInteractive',\n",
              "                                                     [key], {});\n",
              "          if (!dataTable) return;\n",
              "\n",
              "          const docLinkHtml = 'Like what you see? Visit the ' +\n",
              "            '<a target=\"_blank\" href=https://colab.research.google.com/notebooks/data_table.ipynb>data table notebook</a>'\n",
              "            + ' to learn more about interactive tables.';\n",
              "          element.innerHTML = '';\n",
              "          dataTable['output_type'] = 'display_data';\n",
              "          await google.colab.output.renderOutput(dataTable, element);\n",
              "          const docLink = document.createElement('div');\n",
              "          docLink.innerHTML = docLinkHtml;\n",
              "          element.appendChild(docLink);\n",
              "        }\n",
              "      </script>\n",
              "    </div>\n",
              "  </div>\n",
              "  "
            ]
          },
          "metadata": {},
          "execution_count": 5
        }
      ]
    },
    {
      "cell_type": "code",
      "source": [
        "combined_df.head()"
      ],
      "metadata": {
        "colab": {
          "base_uri": "https://localhost:8080/",
          "height": 391
        },
        "id": "IbTvFpnkmE5E",
        "outputId": "a64b146b-9eb5-45ef-d0c4-84c871cf1ab5"
      },
      "execution_count": 6,
      "outputs": [
        {
          "output_type": "execute_result",
          "data": {
            "text/plain": [
              "   Age        Work_Class  Final_Weight  Education  Education-Number  \\\n",
              "0   39         State-gov         77516  Bachelors                13   \n",
              "1   50  Self-emp-not-inc         83311  Bachelors                13   \n",
              "2   38           Private        215646    HS-grad                 9   \n",
              "3   53           Private        234721       11th                 7   \n",
              "4   28           Private        338409  Bachelors                13   \n",
              "\n",
              "       Marital_Status         Occupation   Relationship   Race     Sex  \\\n",
              "0       Never-married       Adm-clerical  Not-in-family  White    Male   \n",
              "1  Married-civ-spouse    Exec-managerial        Husband  White    Male   \n",
              "2            Divorced  Handlers-cleaners  Not-in-family  White    Male   \n",
              "3  Married-civ-spouse  Handlers-cleaners        Husband  Black    Male   \n",
              "4  Married-civ-spouse     Prof-specialty           Wife  Black  Female   \n",
              "\n",
              "   Capital_Gain  Capital_Loss  Hours-Per-Week Native_Country Income    Set  \n",
              "0          2174             0              40  United-States  <=50K  Train  \n",
              "1             0             0              13  United-States  <=50K  Train  \n",
              "2             0             0              40  United-States  <=50K  Train  \n",
              "3             0             0              40  United-States  <=50K  Train  \n",
              "4             0             0              40           Cuba  <=50K  Train  "
            ],
            "text/html": [
              "\n",
              "  <div id=\"df-4534b3b8-49e9-48d8-960e-ca09aaefca89\">\n",
              "    <div class=\"colab-df-container\">\n",
              "      <div>\n",
              "<style scoped>\n",
              "    .dataframe tbody tr th:only-of-type {\n",
              "        vertical-align: middle;\n",
              "    }\n",
              "\n",
              "    .dataframe tbody tr th {\n",
              "        vertical-align: top;\n",
              "    }\n",
              "\n",
              "    .dataframe thead th {\n",
              "        text-align: right;\n",
              "    }\n",
              "</style>\n",
              "<table border=\"1\" class=\"dataframe\">\n",
              "  <thead>\n",
              "    <tr style=\"text-align: right;\">\n",
              "      <th></th>\n",
              "      <th>Age</th>\n",
              "      <th>Work_Class</th>\n",
              "      <th>Final_Weight</th>\n",
              "      <th>Education</th>\n",
              "      <th>Education-Number</th>\n",
              "      <th>Marital_Status</th>\n",
              "      <th>Occupation</th>\n",
              "      <th>Relationship</th>\n",
              "      <th>Race</th>\n",
              "      <th>Sex</th>\n",
              "      <th>Capital_Gain</th>\n",
              "      <th>Capital_Loss</th>\n",
              "      <th>Hours-Per-Week</th>\n",
              "      <th>Native_Country</th>\n",
              "      <th>Income</th>\n",
              "      <th>Set</th>\n",
              "    </tr>\n",
              "  </thead>\n",
              "  <tbody>\n",
              "    <tr>\n",
              "      <th>0</th>\n",
              "      <td>39</td>\n",
              "      <td>State-gov</td>\n",
              "      <td>77516</td>\n",
              "      <td>Bachelors</td>\n",
              "      <td>13</td>\n",
              "      <td>Never-married</td>\n",
              "      <td>Adm-clerical</td>\n",
              "      <td>Not-in-family</td>\n",
              "      <td>White</td>\n",
              "      <td>Male</td>\n",
              "      <td>2174</td>\n",
              "      <td>0</td>\n",
              "      <td>40</td>\n",
              "      <td>United-States</td>\n",
              "      <td>&lt;=50K</td>\n",
              "      <td>Train</td>\n",
              "    </tr>\n",
              "    <tr>\n",
              "      <th>1</th>\n",
              "      <td>50</td>\n",
              "      <td>Self-emp-not-inc</td>\n",
              "      <td>83311</td>\n",
              "      <td>Bachelors</td>\n",
              "      <td>13</td>\n",
              "      <td>Married-civ-spouse</td>\n",
              "      <td>Exec-managerial</td>\n",
              "      <td>Husband</td>\n",
              "      <td>White</td>\n",
              "      <td>Male</td>\n",
              "      <td>0</td>\n",
              "      <td>0</td>\n",
              "      <td>13</td>\n",
              "      <td>United-States</td>\n",
              "      <td>&lt;=50K</td>\n",
              "      <td>Train</td>\n",
              "    </tr>\n",
              "    <tr>\n",
              "      <th>2</th>\n",
              "      <td>38</td>\n",
              "      <td>Private</td>\n",
              "      <td>215646</td>\n",
              "      <td>HS-grad</td>\n",
              "      <td>9</td>\n",
              "      <td>Divorced</td>\n",
              "      <td>Handlers-cleaners</td>\n",
              "      <td>Not-in-family</td>\n",
              "      <td>White</td>\n",
              "      <td>Male</td>\n",
              "      <td>0</td>\n",
              "      <td>0</td>\n",
              "      <td>40</td>\n",
              "      <td>United-States</td>\n",
              "      <td>&lt;=50K</td>\n",
              "      <td>Train</td>\n",
              "    </tr>\n",
              "    <tr>\n",
              "      <th>3</th>\n",
              "      <td>53</td>\n",
              "      <td>Private</td>\n",
              "      <td>234721</td>\n",
              "      <td>11th</td>\n",
              "      <td>7</td>\n",
              "      <td>Married-civ-spouse</td>\n",
              "      <td>Handlers-cleaners</td>\n",
              "      <td>Husband</td>\n",
              "      <td>Black</td>\n",
              "      <td>Male</td>\n",
              "      <td>0</td>\n",
              "      <td>0</td>\n",
              "      <td>40</td>\n",
              "      <td>United-States</td>\n",
              "      <td>&lt;=50K</td>\n",
              "      <td>Train</td>\n",
              "    </tr>\n",
              "    <tr>\n",
              "      <th>4</th>\n",
              "      <td>28</td>\n",
              "      <td>Private</td>\n",
              "      <td>338409</td>\n",
              "      <td>Bachelors</td>\n",
              "      <td>13</td>\n",
              "      <td>Married-civ-spouse</td>\n",
              "      <td>Prof-specialty</td>\n",
              "      <td>Wife</td>\n",
              "      <td>Black</td>\n",
              "      <td>Female</td>\n",
              "      <td>0</td>\n",
              "      <td>0</td>\n",
              "      <td>40</td>\n",
              "      <td>Cuba</td>\n",
              "      <td>&lt;=50K</td>\n",
              "      <td>Train</td>\n",
              "    </tr>\n",
              "  </tbody>\n",
              "</table>\n",
              "</div>\n",
              "      <button class=\"colab-df-convert\" onclick=\"convertToInteractive('df-4534b3b8-49e9-48d8-960e-ca09aaefca89')\"\n",
              "              title=\"Convert this dataframe to an interactive table.\"\n",
              "              style=\"display:none;\">\n",
              "        \n",
              "  <svg xmlns=\"http://www.w3.org/2000/svg\" height=\"24px\"viewBox=\"0 0 24 24\"\n",
              "       width=\"24px\">\n",
              "    <path d=\"M0 0h24v24H0V0z\" fill=\"none\"/>\n",
              "    <path d=\"M18.56 5.44l.94 2.06.94-2.06 2.06-.94-2.06-.94-.94-2.06-.94 2.06-2.06.94zm-11 1L8.5 8.5l.94-2.06 2.06-.94-2.06-.94L8.5 2.5l-.94 2.06-2.06.94zm10 10l.94 2.06.94-2.06 2.06-.94-2.06-.94-.94-2.06-.94 2.06-2.06.94z\"/><path d=\"M17.41 7.96l-1.37-1.37c-.4-.4-.92-.59-1.43-.59-.52 0-1.04.2-1.43.59L10.3 9.45l-7.72 7.72c-.78.78-.78 2.05 0 2.83L4 21.41c.39.39.9.59 1.41.59.51 0 1.02-.2 1.41-.59l7.78-7.78 2.81-2.81c.8-.78.8-2.07 0-2.86zM5.41 20L4 18.59l7.72-7.72 1.47 1.35L5.41 20z\"/>\n",
              "  </svg>\n",
              "      </button>\n",
              "      \n",
              "  <style>\n",
              "    .colab-df-container {\n",
              "      display:flex;\n",
              "      flex-wrap:wrap;\n",
              "      gap: 12px;\n",
              "    }\n",
              "\n",
              "    .colab-df-convert {\n",
              "      background-color: #E8F0FE;\n",
              "      border: none;\n",
              "      border-radius: 50%;\n",
              "      cursor: pointer;\n",
              "      display: none;\n",
              "      fill: #1967D2;\n",
              "      height: 32px;\n",
              "      padding: 0 0 0 0;\n",
              "      width: 32px;\n",
              "    }\n",
              "\n",
              "    .colab-df-convert:hover {\n",
              "      background-color: #E2EBFA;\n",
              "      box-shadow: 0px 1px 2px rgba(60, 64, 67, 0.3), 0px 1px 3px 1px rgba(60, 64, 67, 0.15);\n",
              "      fill: #174EA6;\n",
              "    }\n",
              "\n",
              "    [theme=dark] .colab-df-convert {\n",
              "      background-color: #3B4455;\n",
              "      fill: #D2E3FC;\n",
              "    }\n",
              "\n",
              "    [theme=dark] .colab-df-convert:hover {\n",
              "      background-color: #434B5C;\n",
              "      box-shadow: 0px 1px 3px 1px rgba(0, 0, 0, 0.15);\n",
              "      filter: drop-shadow(0px 1px 2px rgba(0, 0, 0, 0.3));\n",
              "      fill: #FFFFFF;\n",
              "    }\n",
              "  </style>\n",
              "\n",
              "      <script>\n",
              "        const buttonEl =\n",
              "          document.querySelector('#df-4534b3b8-49e9-48d8-960e-ca09aaefca89 button.colab-df-convert');\n",
              "        buttonEl.style.display =\n",
              "          google.colab.kernel.accessAllowed ? 'block' : 'none';\n",
              "\n",
              "        async function convertToInteractive(key) {\n",
              "          const element = document.querySelector('#df-4534b3b8-49e9-48d8-960e-ca09aaefca89');\n",
              "          const dataTable =\n",
              "            await google.colab.kernel.invokeFunction('convertToInteractive',\n",
              "                                                     [key], {});\n",
              "          if (!dataTable) return;\n",
              "\n",
              "          const docLinkHtml = 'Like what you see? Visit the ' +\n",
              "            '<a target=\"_blank\" href=https://colab.research.google.com/notebooks/data_table.ipynb>data table notebook</a>'\n",
              "            + ' to learn more about interactive tables.';\n",
              "          element.innerHTML = '';\n",
              "          dataTable['output_type'] = 'display_data';\n",
              "          await google.colab.output.renderOutput(dataTable, element);\n",
              "          const docLink = document.createElement('div');\n",
              "          docLink.innerHTML = docLinkHtml;\n",
              "          element.appendChild(docLink);\n",
              "        }\n",
              "      </script>\n",
              "    </div>\n",
              "  </div>\n",
              "  "
            ]
          },
          "metadata": {},
          "execution_count": 6
        }
      ]
    },
    {
      "cell_type": "code",
      "source": [
        "combined_df.info()"
      ],
      "metadata": {
        "colab": {
          "base_uri": "https://localhost:8080/"
        },
        "id": "_FBC1coMmNRV",
        "outputId": "5f4dc154-e86b-421d-94ef-99fbed9a2869"
      },
      "execution_count": 7,
      "outputs": [
        {
          "output_type": "stream",
          "name": "stdout",
          "text": [
            "<class 'pandas.core.frame.DataFrame'>\n",
            "RangeIndex: 48842 entries, 0 to 48841\n",
            "Data columns (total 16 columns):\n",
            " #   Column            Non-Null Count  Dtype \n",
            "---  ------            --------------  ----- \n",
            " 0   Age               48842 non-null  int64 \n",
            " 1   Work_Class        48842 non-null  object\n",
            " 2   Final_Weight      48842 non-null  int64 \n",
            " 3   Education         48842 non-null  object\n",
            " 4   Education-Number  48842 non-null  int64 \n",
            " 5   Marital_Status    48842 non-null  object\n",
            " 6   Occupation        48842 non-null  object\n",
            " 7   Relationship      48842 non-null  object\n",
            " 8   Race              48842 non-null  object\n",
            " 9   Sex               48842 non-null  object\n",
            " 10  Capital_Gain      48842 non-null  int64 \n",
            " 11  Capital_Loss      48842 non-null  int64 \n",
            " 12  Hours-Per-Week    48842 non-null  int64 \n",
            " 13  Native_Country    48842 non-null  object\n",
            " 14  Income            48842 non-null  object\n",
            " 15  Set               48842 non-null  object\n",
            "dtypes: int64(6), object(10)\n",
            "memory usage: 6.0+ MB\n"
          ]
        }
      ]
    },
    {
      "cell_type": "code",
      "source": [
        "combined_df.describe()"
      ],
      "metadata": {
        "colab": {
          "base_uri": "https://localhost:8080/",
          "height": 300
        },
        "id": "5oiDDfJEmSJ0",
        "outputId": "9750d8a5-dd95-4970-b990-3e4a69856664"
      },
      "execution_count": 8,
      "outputs": [
        {
          "output_type": "execute_result",
          "data": {
            "text/plain": [
              "                Age  Final_Weight  Education-Number  Capital_Gain  \\\n",
              "count  48842.000000  4.884200e+04      48842.000000  48842.000000   \n",
              "mean      38.643585  1.896641e+05         10.078089   1079.067626   \n",
              "std       13.710510  1.056040e+05          2.570973   7452.019058   \n",
              "min       17.000000  1.228500e+04          1.000000      0.000000   \n",
              "25%       28.000000  1.175505e+05          9.000000      0.000000   \n",
              "50%       37.000000  1.781445e+05         10.000000      0.000000   \n",
              "75%       48.000000  2.376420e+05         12.000000      0.000000   \n",
              "max       90.000000  1.490400e+06         16.000000  99999.000000   \n",
              "\n",
              "       Capital_Loss  Hours-Per-Week  \n",
              "count  48842.000000    48842.000000  \n",
              "mean      87.502314       40.422382  \n",
              "std      403.004552       12.391444  \n",
              "min        0.000000        1.000000  \n",
              "25%        0.000000       40.000000  \n",
              "50%        0.000000       40.000000  \n",
              "75%        0.000000       45.000000  \n",
              "max     4356.000000       99.000000  "
            ],
            "text/html": [
              "\n",
              "  <div id=\"df-bce43b2a-e713-4602-bd3f-c2df83c8270d\">\n",
              "    <div class=\"colab-df-container\">\n",
              "      <div>\n",
              "<style scoped>\n",
              "    .dataframe tbody tr th:only-of-type {\n",
              "        vertical-align: middle;\n",
              "    }\n",
              "\n",
              "    .dataframe tbody tr th {\n",
              "        vertical-align: top;\n",
              "    }\n",
              "\n",
              "    .dataframe thead th {\n",
              "        text-align: right;\n",
              "    }\n",
              "</style>\n",
              "<table border=\"1\" class=\"dataframe\">\n",
              "  <thead>\n",
              "    <tr style=\"text-align: right;\">\n",
              "      <th></th>\n",
              "      <th>Age</th>\n",
              "      <th>Final_Weight</th>\n",
              "      <th>Education-Number</th>\n",
              "      <th>Capital_Gain</th>\n",
              "      <th>Capital_Loss</th>\n",
              "      <th>Hours-Per-Week</th>\n",
              "    </tr>\n",
              "  </thead>\n",
              "  <tbody>\n",
              "    <tr>\n",
              "      <th>count</th>\n",
              "      <td>48842.000000</td>\n",
              "      <td>4.884200e+04</td>\n",
              "      <td>48842.000000</td>\n",
              "      <td>48842.000000</td>\n",
              "      <td>48842.000000</td>\n",
              "      <td>48842.000000</td>\n",
              "    </tr>\n",
              "    <tr>\n",
              "      <th>mean</th>\n",
              "      <td>38.643585</td>\n",
              "      <td>1.896641e+05</td>\n",
              "      <td>10.078089</td>\n",
              "      <td>1079.067626</td>\n",
              "      <td>87.502314</td>\n",
              "      <td>40.422382</td>\n",
              "    </tr>\n",
              "    <tr>\n",
              "      <th>std</th>\n",
              "      <td>13.710510</td>\n",
              "      <td>1.056040e+05</td>\n",
              "      <td>2.570973</td>\n",
              "      <td>7452.019058</td>\n",
              "      <td>403.004552</td>\n",
              "      <td>12.391444</td>\n",
              "    </tr>\n",
              "    <tr>\n",
              "      <th>min</th>\n",
              "      <td>17.000000</td>\n",
              "      <td>1.228500e+04</td>\n",
              "      <td>1.000000</td>\n",
              "      <td>0.000000</td>\n",
              "      <td>0.000000</td>\n",
              "      <td>1.000000</td>\n",
              "    </tr>\n",
              "    <tr>\n",
              "      <th>25%</th>\n",
              "      <td>28.000000</td>\n",
              "      <td>1.175505e+05</td>\n",
              "      <td>9.000000</td>\n",
              "      <td>0.000000</td>\n",
              "      <td>0.000000</td>\n",
              "      <td>40.000000</td>\n",
              "    </tr>\n",
              "    <tr>\n",
              "      <th>50%</th>\n",
              "      <td>37.000000</td>\n",
              "      <td>1.781445e+05</td>\n",
              "      <td>10.000000</td>\n",
              "      <td>0.000000</td>\n",
              "      <td>0.000000</td>\n",
              "      <td>40.000000</td>\n",
              "    </tr>\n",
              "    <tr>\n",
              "      <th>75%</th>\n",
              "      <td>48.000000</td>\n",
              "      <td>2.376420e+05</td>\n",
              "      <td>12.000000</td>\n",
              "      <td>0.000000</td>\n",
              "      <td>0.000000</td>\n",
              "      <td>45.000000</td>\n",
              "    </tr>\n",
              "    <tr>\n",
              "      <th>max</th>\n",
              "      <td>90.000000</td>\n",
              "      <td>1.490400e+06</td>\n",
              "      <td>16.000000</td>\n",
              "      <td>99999.000000</td>\n",
              "      <td>4356.000000</td>\n",
              "      <td>99.000000</td>\n",
              "    </tr>\n",
              "  </tbody>\n",
              "</table>\n",
              "</div>\n",
              "      <button class=\"colab-df-convert\" onclick=\"convertToInteractive('df-bce43b2a-e713-4602-bd3f-c2df83c8270d')\"\n",
              "              title=\"Convert this dataframe to an interactive table.\"\n",
              "              style=\"display:none;\">\n",
              "        \n",
              "  <svg xmlns=\"http://www.w3.org/2000/svg\" height=\"24px\"viewBox=\"0 0 24 24\"\n",
              "       width=\"24px\">\n",
              "    <path d=\"M0 0h24v24H0V0z\" fill=\"none\"/>\n",
              "    <path d=\"M18.56 5.44l.94 2.06.94-2.06 2.06-.94-2.06-.94-.94-2.06-.94 2.06-2.06.94zm-11 1L8.5 8.5l.94-2.06 2.06-.94-2.06-.94L8.5 2.5l-.94 2.06-2.06.94zm10 10l.94 2.06.94-2.06 2.06-.94-2.06-.94-.94-2.06-.94 2.06-2.06.94z\"/><path d=\"M17.41 7.96l-1.37-1.37c-.4-.4-.92-.59-1.43-.59-.52 0-1.04.2-1.43.59L10.3 9.45l-7.72 7.72c-.78.78-.78 2.05 0 2.83L4 21.41c.39.39.9.59 1.41.59.51 0 1.02-.2 1.41-.59l7.78-7.78 2.81-2.81c.8-.78.8-2.07 0-2.86zM5.41 20L4 18.59l7.72-7.72 1.47 1.35L5.41 20z\"/>\n",
              "  </svg>\n",
              "      </button>\n",
              "      \n",
              "  <style>\n",
              "    .colab-df-container {\n",
              "      display:flex;\n",
              "      flex-wrap:wrap;\n",
              "      gap: 12px;\n",
              "    }\n",
              "\n",
              "    .colab-df-convert {\n",
              "      background-color: #E8F0FE;\n",
              "      border: none;\n",
              "      border-radius: 50%;\n",
              "      cursor: pointer;\n",
              "      display: none;\n",
              "      fill: #1967D2;\n",
              "      height: 32px;\n",
              "      padding: 0 0 0 0;\n",
              "      width: 32px;\n",
              "    }\n",
              "\n",
              "    .colab-df-convert:hover {\n",
              "      background-color: #E2EBFA;\n",
              "      box-shadow: 0px 1px 2px rgba(60, 64, 67, 0.3), 0px 1px 3px 1px rgba(60, 64, 67, 0.15);\n",
              "      fill: #174EA6;\n",
              "    }\n",
              "\n",
              "    [theme=dark] .colab-df-convert {\n",
              "      background-color: #3B4455;\n",
              "      fill: #D2E3FC;\n",
              "    }\n",
              "\n",
              "    [theme=dark] .colab-df-convert:hover {\n",
              "      background-color: #434B5C;\n",
              "      box-shadow: 0px 1px 3px 1px rgba(0, 0, 0, 0.15);\n",
              "      filter: drop-shadow(0px 1px 2px rgba(0, 0, 0, 0.3));\n",
              "      fill: #FFFFFF;\n",
              "    }\n",
              "  </style>\n",
              "\n",
              "      <script>\n",
              "        const buttonEl =\n",
              "          document.querySelector('#df-bce43b2a-e713-4602-bd3f-c2df83c8270d button.colab-df-convert');\n",
              "        buttonEl.style.display =\n",
              "          google.colab.kernel.accessAllowed ? 'block' : 'none';\n",
              "\n",
              "        async function convertToInteractive(key) {\n",
              "          const element = document.querySelector('#df-bce43b2a-e713-4602-bd3f-c2df83c8270d');\n",
              "          const dataTable =\n",
              "            await google.colab.kernel.invokeFunction('convertToInteractive',\n",
              "                                                     [key], {});\n",
              "          if (!dataTable) return;\n",
              "\n",
              "          const docLinkHtml = 'Like what you see? Visit the ' +\n",
              "            '<a target=\"_blank\" href=https://colab.research.google.com/notebooks/data_table.ipynb>data table notebook</a>'\n",
              "            + ' to learn more about interactive tables.';\n",
              "          element.innerHTML = '';\n",
              "          dataTable['output_type'] = 'display_data';\n",
              "          await google.colab.output.renderOutput(dataTable, element);\n",
              "          const docLink = document.createElement('div');\n",
              "          docLink.innerHTML = docLinkHtml;\n",
              "          element.appendChild(docLink);\n",
              "        }\n",
              "      </script>\n",
              "    </div>\n",
              "  </div>\n",
              "  "
            ]
          },
          "metadata": {},
          "execution_count": 8
        }
      ]
    },
    {
      "cell_type": "markdown",
      "source": [
        "**Pre-Process**"
      ],
      "metadata": {
        "id": "z2mxJ1T9l-b8"
      }
    },
    {
      "cell_type": "code",
      "source": [
        "# Checking null values, if any\n",
        "combined_df.isnull().sum()"
      ],
      "metadata": {
        "colab": {
          "base_uri": "https://localhost:8080/"
        },
        "id": "qB-9vGXKmpbk",
        "outputId": "c3b4125a-4c45-47fa-f307-8617078b4776"
      },
      "execution_count": 9,
      "outputs": [
        {
          "output_type": "execute_result",
          "data": {
            "text/plain": [
              "Age                 0\n",
              "Work_Class          0\n",
              "Final_Weight        0\n",
              "Education           0\n",
              "Education-Number    0\n",
              "Marital_Status      0\n",
              "Occupation          0\n",
              "Relationship        0\n",
              "Race                0\n",
              "Sex                 0\n",
              "Capital_Gain        0\n",
              "Capital_Loss        0\n",
              "Hours-Per-Week      0\n",
              "Native_Country      0\n",
              "Income              0\n",
              "Set                 0\n",
              "dtype: int64"
            ]
          },
          "metadata": {},
          "execution_count": 9
        }
      ]
    },
    {
      "cell_type": "markdown",
      "source": [
        "#Checking NULL values"
      ],
      "metadata": {
        "id": "nbJcOpiDrN6D"
      }
    },
    {
      "cell_type": "code",
      "source": [
        "#Get unique values Age\n",
        "unique_age = combined_df['Age'].unique()\n",
        "print(unique_age)"
      ],
      "metadata": {
        "id": "qPcknqlzrLYS",
        "colab": {
          "base_uri": "https://localhost:8080/"
        },
        "outputId": "955afa83-b0c2-45a6-a0ff-464c417c06e9"
      },
      "execution_count": 10,
      "outputs": [
        {
          "output_type": "stream",
          "name": "stdout",
          "text": [
            "[39 50 38 53 28 37 49 52 31 42 30 23 32 40 34 25 43 54 35 59 56 19 20 45\n",
            " 22 48 21 24 57 44 41 29 18 47 46 36 79 27 67 33 76 17 55 61 70 64 71 68\n",
            " 66 51 58 26 60 90 75 65 77 62 63 80 72 74 69 73 81 78 88 82 83 84 85 86\n",
            " 87 89]\n"
          ]
        }
      ]
    },
    {
      "cell_type": "code",
      "source": [
        "#Get unique values Work Class\n",
        "unique_Work_Class = combined_df['Work_Class'].unique()\n",
        "print(unique_Work_Class)"
      ],
      "metadata": {
        "colab": {
          "base_uri": "https://localhost:8080/"
        },
        "id": "qcxvqfYhjgvP",
        "outputId": "48d60b95-f068-4a45-88f1-7c0334e23377"
      },
      "execution_count": 11,
      "outputs": [
        {
          "output_type": "stream",
          "name": "stdout",
          "text": [
            "['State-gov' 'Self-emp-not-inc' 'Private' 'Federal-gov' 'Local-gov' '?'\n",
            " 'Self-emp-inc' 'Without-pay' 'Never-worked']\n"
          ]
        }
      ]
    },
    {
      "cell_type": "code",
      "source": [
        "#Get percentage of ? value\n",
        "count = (combined_df['Work_Class'] == '?').sum()\n",
        "percentage = (combined_df['Work_Class']=='?').mean()*100\n",
        "print(count)\n",
        "print(f\"{percentage:.2f}%\")"
      ],
      "metadata": {
        "colab": {
          "base_uri": "https://localhost:8080/"
        },
        "id": "RZjD8yWCrn-h",
        "outputId": "a7014ed7-68e8-455d-c938-d48574f3ad98"
      },
      "execution_count": 12,
      "outputs": [
        {
          "output_type": "stream",
          "name": "stdout",
          "text": [
            "2799\n",
            "5.73%\n"
          ]
        }
      ]
    },
    {
      "cell_type": "code",
      "source": [
        "#Get percentage of most common value\n",
        "value_count = combined_df['Work_Class'].value_counts()\n",
        "most_common = value_count.idxmax()\n",
        "most_common_count = value_count[most_common]\n",
        "total = len(combined_df['Work_Class'])\n",
        "percentage_most = most_common_count/total\n",
        "print(percentage_most)\n",
        "#Inplace ? value with most common vlaue\n",
        "combined_df['Work_Class'].replace('?',most_common,inplace = True)"
      ],
      "metadata": {
        "colab": {
          "base_uri": "https://localhost:8080/"
        },
        "id": "PUX7204QuFJx",
        "outputId": "185295f4-def6-41e8-839d-28e22a0b7e92"
      },
      "execution_count": 13,
      "outputs": [
        {
          "output_type": "stream",
          "name": "stdout",
          "text": [
            "0.6941976168052086\n"
          ]
        }
      ]
    },
    {
      "cell_type": "code",
      "source": [
        "#Get unique values Final Weight\n",
        "unique_final_weight = combined_df['Final_Weight'].unique()\n",
        "print(unique_final_weight)"
      ],
      "metadata": {
        "id": "Mw9o567IzCJm",
        "colab": {
          "base_uri": "https://localhost:8080/"
        },
        "outputId": "ad758994-6120-43bf-a329-33cf049536c4"
      },
      "execution_count": 14,
      "outputs": [
        {
          "output_type": "stream",
          "name": "stdout",
          "text": [
            "[ 77516  83311 215646 ... 173449  89686 350977]\n"
          ]
        }
      ]
    },
    {
      "cell_type": "code",
      "source": [
        "#Get unique values Education\n",
        "unique_Education = combined_df['Education'].unique()\n",
        "print(unique_Education)"
      ],
      "metadata": {
        "colab": {
          "base_uri": "https://localhost:8080/"
        },
        "id": "IbPuh_oqRzdh",
        "outputId": "ea49d997-bd52-4bcf-9856-a77a174227ca"
      },
      "execution_count": 15,
      "outputs": [
        {
          "output_type": "stream",
          "name": "stdout",
          "text": [
            "['Bachelors' 'HS-grad' '11th' 'Masters' '9th' 'Some-college' 'Assoc-acdm'\n",
            " 'Assoc-voc' '7th-8th' 'Doctorate' 'Prof-school' '5th-6th' '10th'\n",
            " '1st-4th' 'Preschool' '12th']\n"
          ]
        }
      ]
    },
    {
      "cell_type": "code",
      "source": [
        "#Get unique values Education Number\n",
        "unique_Education_Number = combined_df['Education-Number'].unique()\n",
        "print(unique_Education_Number)\n",
        "#drop Education column\n",
        "combined_df = combined_df.drop('Education', axis=1)"
      ],
      "metadata": {
        "colab": {
          "base_uri": "https://localhost:8080/"
        },
        "id": "VgpU3KRVSQ1x",
        "outputId": "f420ca36-2ba6-4531-ac88-7bb738156d60"
      },
      "execution_count": 16,
      "outputs": [
        {
          "output_type": "stream",
          "name": "stdout",
          "text": [
            "[13  9  7 14  5 10 12 11  4 16 15  3  6  2  1  8]\n"
          ]
        }
      ]
    },
    {
      "cell_type": "code",
      "source": [
        "#Get unique values Marital satus\n",
        "unique_Marital_Status = combined_df['Marital_Status'].unique()\n",
        "print(unique_Marital_Status)"
      ],
      "metadata": {
        "colab": {
          "base_uri": "https://localhost:8080/"
        },
        "id": "kTx1-W2sSRn6",
        "outputId": "b36e290a-2d03-454d-8dd4-f277ba9d7106"
      },
      "execution_count": 17,
      "outputs": [
        {
          "output_type": "stream",
          "name": "stdout",
          "text": [
            "['Never-married' 'Married-civ-spouse' 'Divorced' 'Married-spouse-absent'\n",
            " 'Separated' 'Married-AF-spouse' 'Widowed']\n"
          ]
        }
      ]
    },
    {
      "cell_type": "code",
      "source": [
        "#Get unique values Occupation\n",
        "unique_Occupation = combined_df['Occupation'].unique()\n",
        "print(unique_Occupation)"
      ],
      "metadata": {
        "colab": {
          "base_uri": "https://localhost:8080/"
        },
        "id": "twgbTbpjTI1J",
        "outputId": "d5c73677-23cf-4ae4-a83f-230adfbbb53b"
      },
      "execution_count": 18,
      "outputs": [
        {
          "output_type": "stream",
          "name": "stdout",
          "text": [
            "['Adm-clerical' 'Exec-managerial' 'Handlers-cleaners' 'Prof-specialty'\n",
            " 'Other-service' 'Sales' 'Craft-repair' 'Transport-moving'\n",
            " 'Farming-fishing' 'Machine-op-inspct' 'Tech-support' '?'\n",
            " 'Protective-serv' 'Armed-Forces' 'Priv-house-serv']\n"
          ]
        }
      ]
    },
    {
      "cell_type": "code",
      "source": [
        "#Get percentage ? values\n",
        "count = (combined_df['Occupation'] == '?').sum()\n",
        "percentage = (combined_df['Occupation']=='?').mean()*100\n",
        "print(count)\n",
        "print(f\"{percentage:.2f}%\")"
      ],
      "metadata": {
        "colab": {
          "base_uri": "https://localhost:8080/"
        },
        "outputId": "4346167e-16d5-4f45-fab3-95dfaf018f6e",
        "id": "ayju66wYTeds"
      },
      "execution_count": 19,
      "outputs": [
        {
          "output_type": "stream",
          "name": "stdout",
          "text": [
            "2809\n",
            "5.75%\n"
          ]
        }
      ]
    },
    {
      "cell_type": "code",
      "source": [
        "#Get percentage of most common value\n",
        "value_count = combined_df['Occupation'].value_counts()\n",
        "most_common = value_count.idxmax()\n",
        "most_common_count = value_count[most_common]\n",
        "total = len(combined_df['Occupation'])\n",
        "percentage_most = most_common_count/total\n",
        "print(percentage_most)\n",
        "#Inplace ? value with most common vlaue\n",
        "combined_df['Occupation'].replace('?',most_common,inplace = True)"
      ],
      "metadata": {
        "id": "Q_wGHZ1FTrJe",
        "colab": {
          "base_uri": "https://localhost:8080/"
        },
        "outputId": "55385582-986e-4f3f-f82c-b8d69d1a262c"
      },
      "execution_count": 20,
      "outputs": [
        {
          "output_type": "stream",
          "name": "stdout",
          "text": [
            "0.1263666516522665\n"
          ]
        }
      ]
    },
    {
      "cell_type": "code",
      "source": [
        "unique_Relation = combined_df['Relationship'].unique()\n",
        "print(unique_Relation)"
      ],
      "metadata": {
        "colab": {
          "base_uri": "https://localhost:8080/"
        },
        "id": "ywbq9tfoUqBg",
        "outputId": "cc7a3c3e-22b0-4658-99ed-891ffac8a42c"
      },
      "execution_count": 21,
      "outputs": [
        {
          "output_type": "stream",
          "name": "stdout",
          "text": [
            "['Not-in-family' 'Husband' 'Wife' 'Own-child' 'Unmarried' 'Other-relative']\n"
          ]
        }
      ]
    },
    {
      "cell_type": "code",
      "source": [
        "unique_Race = combined_df['Race'].unique()\n",
        "print(unique_Race)"
      ],
      "metadata": {
        "colab": {
          "base_uri": "https://localhost:8080/"
        },
        "id": "xGGo_WUDWlUg",
        "outputId": "16fb8830-4753-497a-e056-aa4c315568ab"
      },
      "execution_count": 22,
      "outputs": [
        {
          "output_type": "stream",
          "name": "stdout",
          "text": [
            "['White' 'Black' 'Asian-Pac-Islander' 'Amer-Indian-Eskimo' 'Other']\n"
          ]
        }
      ]
    },
    {
      "cell_type": "code",
      "source": [
        "unique_sex = combined_df['Sex'].unique()\n",
        "print(unique_sex)"
      ],
      "metadata": {
        "colab": {
          "base_uri": "https://localhost:8080/"
        },
        "id": "2io5QxuYXegG",
        "outputId": "6edeb021-f8a5-4d16-d5dc-883e0dc0d6d8"
      },
      "execution_count": 23,
      "outputs": [
        {
          "output_type": "stream",
          "name": "stdout",
          "text": [
            "['Male' 'Female']\n"
          ]
        }
      ]
    },
    {
      "cell_type": "code",
      "source": [
        "unique_Capital_Gain = combined_df['Capital_Gain'].unique()\n",
        "print(unique_Capital_Gain)"
      ],
      "metadata": {
        "colab": {
          "base_uri": "https://localhost:8080/"
        },
        "id": "IOUS-A6PX5Df",
        "outputId": "38c1dac8-d82b-46f4-9e74-2a9711b12f1c"
      },
      "execution_count": 24,
      "outputs": [
        {
          "output_type": "stream",
          "name": "stdout",
          "text": [
            "[ 2174     0 14084  5178  5013  2407 14344 15024  7688 34095  4064  4386\n",
            "  7298  1409  3674  1055  3464  2050  2176   594 20051  6849  4101  1111\n",
            "  8614  3411  2597 25236  4650  9386  2463  3103 10605  2964  3325  2580\n",
            "  3471  4865 99999  6514  1471  2329  2105  2885 25124 10520  2202  2961\n",
            " 27828  6767  2228  1506 13550  2635  5556  4787  3781  3137  3818  3942\n",
            "   914   401  2829  2977  4934  2062  2354  5455 15020  1424  3273 22040\n",
            "  4416  3908 10566   991  4931  1086  7430  6497   114  7896  2346  3418\n",
            "  3432  2907  1151  2414  2290 15831 41310  4508  2538  3456  6418  1848\n",
            "  3887  5721  9562  1455  2036  1831 11678  2936  2993  7443  6360  1797\n",
            "  1173  4687  6723  2009  6097  2653  1639 18481  7978  2387  5060  1264\n",
            "  7262  1731  6612]\n"
          ]
        }
      ]
    },
    {
      "cell_type": "code",
      "source": [
        "unique_Capital_Loss = combined_df['Capital_Loss'].unique()\n",
        "print(unique_Capital_Loss)"
      ],
      "metadata": {
        "colab": {
          "base_uri": "https://localhost:8080/"
        },
        "id": "zuaeTBfqYFT-",
        "outputId": "420439f5-196f-4f4a-edfc-fa8497a67fc3"
      },
      "execution_count": 25,
      "outputs": [
        {
          "output_type": "stream",
          "name": "stdout",
          "text": [
            "[   0 2042 1408 1902 1573 1887 1719 1762 1564 2179 1816 1980 1977 1876\n",
            " 1340 2206 1741 1485 2339 2415 1380 1721 2051 2377 1669 2352 1672  653\n",
            " 2392 1504 2001 1590 1651 1628 1848 1740 2002 1579 2258 1602  419 2547\n",
            " 2174 2205 1726 2444 1138 2238  625  213 1539  880 1668 1092 1594 3004\n",
            " 2231 1844  810 2824 2559 2057 1974  974 2149 1825 1735 1258 2129 2603\n",
            " 2282  323 4356 2246 1617 1648 2489 3770 1755 3683 2267 2080 2457  155\n",
            " 3900 2201 1944 2467 2163 2754 2472 1411 1429 3175 1510 1870 1911 2465\n",
            " 1421]\n"
          ]
        }
      ]
    },
    {
      "cell_type": "code",
      "source": [
        "unique_Hours_Per_Week = combined_df['Hours-Per-Week'].unique()\n",
        "print(unique_Hours_Per_Week)"
      ],
      "metadata": {
        "colab": {
          "base_uri": "https://localhost:8080/"
        },
        "id": "oFhtDKvIYYG9",
        "outputId": "a1615773-4cb4-44bd-b228-119cc5d0a824"
      },
      "execution_count": 26,
      "outputs": [
        {
          "output_type": "stream",
          "name": "stdout",
          "text": [
            "[40 13 16 45 50 80 30 35 60 20 52 44 15 25 38 43 55 48 58 32 70  2 22 56\n",
            " 41 28 36 24 46 42 12 65  1 10 34 75 98 33 54  8  6 64 19 18 72  5  9 47\n",
            " 37 21 26 14  4 59  7 99 53 39 62 57 78 90 66 11 49 84  3 17 68 27 85 31\n",
            " 51 77 63 23 87 88 73 89 97 94 29 96 67 82 86 91 81 76 92 61 74 95 79 69]\n"
          ]
        }
      ]
    },
    {
      "cell_type": "code",
      "source": [
        "unique_Native_Country = combined_df['Native_Country'].unique()\n",
        "print(unique_Native_Country)"
      ],
      "metadata": {
        "colab": {
          "base_uri": "https://localhost:8080/"
        },
        "id": "mqpQz0G2Yqud",
        "outputId": "b81529c3-4af0-41fb-e262-e3c95dbc40fa"
      },
      "execution_count": 27,
      "outputs": [
        {
          "output_type": "stream",
          "name": "stdout",
          "text": [
            "['United-States' 'Cuba' 'Jamaica' 'India' '?' 'Mexico' 'South'\n",
            " 'Puerto-Rico' 'Honduras' 'England' 'Canada' 'Germany' 'Iran'\n",
            " 'Philippines' 'Italy' 'Poland' 'Columbia' 'Cambodia' 'Thailand' 'Ecuador'\n",
            " 'Laos' 'Taiwan' 'Haiti' 'Portugal' 'Dominican-Republic' 'El-Salvador'\n",
            " 'France' 'Guatemala' 'China' 'Japan' 'Yugoslavia' 'Peru'\n",
            " 'Outlying-US(Guam-USVI-etc)' 'Scotland' 'Trinadad&Tobago' 'Greece'\n",
            " 'Nicaragua' 'Vietnam' 'Hong' 'Ireland' 'Hungary' 'Holand-Netherlands']\n"
          ]
        }
      ]
    },
    {
      "cell_type": "code",
      "source": [
        "count = (combined_df['Native_Country'] == '?').sum()\n",
        "percentage = (combined_df['Native_Country']=='?').mean()*100\n",
        "print(count)\n",
        "print(f\"{percentage:.2f}%\")"
      ],
      "metadata": {
        "colab": {
          "base_uri": "https://localhost:8080/"
        },
        "outputId": "8168d2bd-e7af-4d7d-f08a-73aebda54510",
        "id": "dj_mvgBOZEVY"
      },
      "execution_count": 28,
      "outputs": [
        {
          "output_type": "stream",
          "name": "stdout",
          "text": [
            "857\n",
            "1.75%\n"
          ]
        }
      ]
    },
    {
      "cell_type": "code",
      "source": [
        "value_count = combined_df['Native_Country'].value_counts()\n",
        "print(value_count)\n",
        "most_common = value_count.idxmax()\n",
        "most_common_count = value_count[most_common]\n",
        "total = len(combined_df['Native_Country'])\n",
        "percentage_most = most_common_count/total\n",
        "print(percentage_most)"
      ],
      "metadata": {
        "colab": {
          "base_uri": "https://localhost:8080/"
        },
        "outputId": "26c3462e-d15a-4014-b962-82a3ac0af698",
        "id": "9lAXm290ZQvo"
      },
      "execution_count": 29,
      "outputs": [
        {
          "output_type": "stream",
          "name": "stdout",
          "text": [
            "United-States                 43832\n",
            "Mexico                          951\n",
            "?                               857\n",
            "Philippines                     295\n",
            "Germany                         206\n",
            "Puerto-Rico                     184\n",
            "Canada                          182\n",
            "El-Salvador                     155\n",
            "India                           151\n",
            "Cuba                            138\n",
            "England                         127\n",
            "China                           122\n",
            "South                           115\n",
            "Jamaica                         106\n",
            "Italy                           105\n",
            "Dominican-Republic              103\n",
            "Japan                            92\n",
            "Guatemala                        88\n",
            "Poland                           87\n",
            "Vietnam                          86\n",
            "Columbia                         85\n",
            "Haiti                            75\n",
            "Portugal                         67\n",
            "Taiwan                           65\n",
            "Iran                             59\n",
            "Greece                           49\n",
            "Nicaragua                        49\n",
            "Peru                             46\n",
            "Ecuador                          45\n",
            "France                           38\n",
            "Ireland                          37\n",
            "Hong                             30\n",
            "Thailand                         30\n",
            "Cambodia                         28\n",
            "Trinadad&Tobago                  27\n",
            "Laos                             23\n",
            "Yugoslavia                       23\n",
            "Outlying-US(Guam-USVI-etc)       23\n",
            "Scotland                         21\n",
            "Honduras                         20\n",
            "Hungary                          19\n",
            "Holand-Netherlands                1\n",
            "Name: Native_Country, dtype: int64\n",
            "0.8974243478973015\n"
          ]
        }
      ]
    },
    {
      "cell_type": "code",
      "source": [
        "combined_df['Native_Country'].replace('?',most_common,inplace = True)"
      ],
      "metadata": {
        "id": "juaQjxppZe0U"
      },
      "execution_count": 30,
      "outputs": []
    },
    {
      "cell_type": "code",
      "source": [
        "unique_Income = combined_df['Income'].unique()\n",
        "print(unique_Income)"
      ],
      "metadata": {
        "colab": {
          "base_uri": "https://localhost:8080/"
        },
        "id": "Ki8HRDacZo7v",
        "outputId": "93e0e855-7454-4c7a-db95-0f4837bb4da2"
      },
      "execution_count": 31,
      "outputs": [
        {
          "output_type": "stream",
          "name": "stdout",
          "text": [
            "['<=50K' '>50K']\n"
          ]
        }
      ]
    },
    {
      "cell_type": "markdown",
      "source": [
        "##We replaced all columns and replace NULL values with proper values"
      ],
      "metadata": {
        "id": "INQHLJpBtbm6"
      }
    },
    {
      "cell_type": "code",
      "source": [
        "combined_df.head()"
      ],
      "metadata": {
        "colab": {
          "base_uri": "https://localhost:8080/",
          "height": 391
        },
        "id": "TaPS_IvdiEMY",
        "outputId": "c9165869-e7ab-48c6-ce50-82b441955b9d"
      },
      "execution_count": 32,
      "outputs": [
        {
          "output_type": "execute_result",
          "data": {
            "text/plain": [
              "   Age        Work_Class  Final_Weight  Education-Number      Marital_Status  \\\n",
              "0   39         State-gov         77516                13       Never-married   \n",
              "1   50  Self-emp-not-inc         83311                13  Married-civ-spouse   \n",
              "2   38           Private        215646                 9            Divorced   \n",
              "3   53           Private        234721                 7  Married-civ-spouse   \n",
              "4   28           Private        338409                13  Married-civ-spouse   \n",
              "\n",
              "          Occupation   Relationship   Race     Sex  Capital_Gain  \\\n",
              "0       Adm-clerical  Not-in-family  White    Male          2174   \n",
              "1    Exec-managerial        Husband  White    Male             0   \n",
              "2  Handlers-cleaners  Not-in-family  White    Male             0   \n",
              "3  Handlers-cleaners        Husband  Black    Male             0   \n",
              "4     Prof-specialty           Wife  Black  Female             0   \n",
              "\n",
              "   Capital_Loss  Hours-Per-Week Native_Country Income    Set  \n",
              "0             0              40  United-States  <=50K  Train  \n",
              "1             0              13  United-States  <=50K  Train  \n",
              "2             0              40  United-States  <=50K  Train  \n",
              "3             0              40  United-States  <=50K  Train  \n",
              "4             0              40           Cuba  <=50K  Train  "
            ],
            "text/html": [
              "\n",
              "  <div id=\"df-fc4c008b-76cc-4260-972a-3138c6f2b62b\">\n",
              "    <div class=\"colab-df-container\">\n",
              "      <div>\n",
              "<style scoped>\n",
              "    .dataframe tbody tr th:only-of-type {\n",
              "        vertical-align: middle;\n",
              "    }\n",
              "\n",
              "    .dataframe tbody tr th {\n",
              "        vertical-align: top;\n",
              "    }\n",
              "\n",
              "    .dataframe thead th {\n",
              "        text-align: right;\n",
              "    }\n",
              "</style>\n",
              "<table border=\"1\" class=\"dataframe\">\n",
              "  <thead>\n",
              "    <tr style=\"text-align: right;\">\n",
              "      <th></th>\n",
              "      <th>Age</th>\n",
              "      <th>Work_Class</th>\n",
              "      <th>Final_Weight</th>\n",
              "      <th>Education-Number</th>\n",
              "      <th>Marital_Status</th>\n",
              "      <th>Occupation</th>\n",
              "      <th>Relationship</th>\n",
              "      <th>Race</th>\n",
              "      <th>Sex</th>\n",
              "      <th>Capital_Gain</th>\n",
              "      <th>Capital_Loss</th>\n",
              "      <th>Hours-Per-Week</th>\n",
              "      <th>Native_Country</th>\n",
              "      <th>Income</th>\n",
              "      <th>Set</th>\n",
              "    </tr>\n",
              "  </thead>\n",
              "  <tbody>\n",
              "    <tr>\n",
              "      <th>0</th>\n",
              "      <td>39</td>\n",
              "      <td>State-gov</td>\n",
              "      <td>77516</td>\n",
              "      <td>13</td>\n",
              "      <td>Never-married</td>\n",
              "      <td>Adm-clerical</td>\n",
              "      <td>Not-in-family</td>\n",
              "      <td>White</td>\n",
              "      <td>Male</td>\n",
              "      <td>2174</td>\n",
              "      <td>0</td>\n",
              "      <td>40</td>\n",
              "      <td>United-States</td>\n",
              "      <td>&lt;=50K</td>\n",
              "      <td>Train</td>\n",
              "    </tr>\n",
              "    <tr>\n",
              "      <th>1</th>\n",
              "      <td>50</td>\n",
              "      <td>Self-emp-not-inc</td>\n",
              "      <td>83311</td>\n",
              "      <td>13</td>\n",
              "      <td>Married-civ-spouse</td>\n",
              "      <td>Exec-managerial</td>\n",
              "      <td>Husband</td>\n",
              "      <td>White</td>\n",
              "      <td>Male</td>\n",
              "      <td>0</td>\n",
              "      <td>0</td>\n",
              "      <td>13</td>\n",
              "      <td>United-States</td>\n",
              "      <td>&lt;=50K</td>\n",
              "      <td>Train</td>\n",
              "    </tr>\n",
              "    <tr>\n",
              "      <th>2</th>\n",
              "      <td>38</td>\n",
              "      <td>Private</td>\n",
              "      <td>215646</td>\n",
              "      <td>9</td>\n",
              "      <td>Divorced</td>\n",
              "      <td>Handlers-cleaners</td>\n",
              "      <td>Not-in-family</td>\n",
              "      <td>White</td>\n",
              "      <td>Male</td>\n",
              "      <td>0</td>\n",
              "      <td>0</td>\n",
              "      <td>40</td>\n",
              "      <td>United-States</td>\n",
              "      <td>&lt;=50K</td>\n",
              "      <td>Train</td>\n",
              "    </tr>\n",
              "    <tr>\n",
              "      <th>3</th>\n",
              "      <td>53</td>\n",
              "      <td>Private</td>\n",
              "      <td>234721</td>\n",
              "      <td>7</td>\n",
              "      <td>Married-civ-spouse</td>\n",
              "      <td>Handlers-cleaners</td>\n",
              "      <td>Husband</td>\n",
              "      <td>Black</td>\n",
              "      <td>Male</td>\n",
              "      <td>0</td>\n",
              "      <td>0</td>\n",
              "      <td>40</td>\n",
              "      <td>United-States</td>\n",
              "      <td>&lt;=50K</td>\n",
              "      <td>Train</td>\n",
              "    </tr>\n",
              "    <tr>\n",
              "      <th>4</th>\n",
              "      <td>28</td>\n",
              "      <td>Private</td>\n",
              "      <td>338409</td>\n",
              "      <td>13</td>\n",
              "      <td>Married-civ-spouse</td>\n",
              "      <td>Prof-specialty</td>\n",
              "      <td>Wife</td>\n",
              "      <td>Black</td>\n",
              "      <td>Female</td>\n",
              "      <td>0</td>\n",
              "      <td>0</td>\n",
              "      <td>40</td>\n",
              "      <td>Cuba</td>\n",
              "      <td>&lt;=50K</td>\n",
              "      <td>Train</td>\n",
              "    </tr>\n",
              "  </tbody>\n",
              "</table>\n",
              "</div>\n",
              "      <button class=\"colab-df-convert\" onclick=\"convertToInteractive('df-fc4c008b-76cc-4260-972a-3138c6f2b62b')\"\n",
              "              title=\"Convert this dataframe to an interactive table.\"\n",
              "              style=\"display:none;\">\n",
              "        \n",
              "  <svg xmlns=\"http://www.w3.org/2000/svg\" height=\"24px\"viewBox=\"0 0 24 24\"\n",
              "       width=\"24px\">\n",
              "    <path d=\"M0 0h24v24H0V0z\" fill=\"none\"/>\n",
              "    <path d=\"M18.56 5.44l.94 2.06.94-2.06 2.06-.94-2.06-.94-.94-2.06-.94 2.06-2.06.94zm-11 1L8.5 8.5l.94-2.06 2.06-.94-2.06-.94L8.5 2.5l-.94 2.06-2.06.94zm10 10l.94 2.06.94-2.06 2.06-.94-2.06-.94-.94-2.06-.94 2.06-2.06.94z\"/><path d=\"M17.41 7.96l-1.37-1.37c-.4-.4-.92-.59-1.43-.59-.52 0-1.04.2-1.43.59L10.3 9.45l-7.72 7.72c-.78.78-.78 2.05 0 2.83L4 21.41c.39.39.9.59 1.41.59.51 0 1.02-.2 1.41-.59l7.78-7.78 2.81-2.81c.8-.78.8-2.07 0-2.86zM5.41 20L4 18.59l7.72-7.72 1.47 1.35L5.41 20z\"/>\n",
              "  </svg>\n",
              "      </button>\n",
              "      \n",
              "  <style>\n",
              "    .colab-df-container {\n",
              "      display:flex;\n",
              "      flex-wrap:wrap;\n",
              "      gap: 12px;\n",
              "    }\n",
              "\n",
              "    .colab-df-convert {\n",
              "      background-color: #E8F0FE;\n",
              "      border: none;\n",
              "      border-radius: 50%;\n",
              "      cursor: pointer;\n",
              "      display: none;\n",
              "      fill: #1967D2;\n",
              "      height: 32px;\n",
              "      padding: 0 0 0 0;\n",
              "      width: 32px;\n",
              "    }\n",
              "\n",
              "    .colab-df-convert:hover {\n",
              "      background-color: #E2EBFA;\n",
              "      box-shadow: 0px 1px 2px rgba(60, 64, 67, 0.3), 0px 1px 3px 1px rgba(60, 64, 67, 0.15);\n",
              "      fill: #174EA6;\n",
              "    }\n",
              "\n",
              "    [theme=dark] .colab-df-convert {\n",
              "      background-color: #3B4455;\n",
              "      fill: #D2E3FC;\n",
              "    }\n",
              "\n",
              "    [theme=dark] .colab-df-convert:hover {\n",
              "      background-color: #434B5C;\n",
              "      box-shadow: 0px 1px 3px 1px rgba(0, 0, 0, 0.15);\n",
              "      filter: drop-shadow(0px 1px 2px rgba(0, 0, 0, 0.3));\n",
              "      fill: #FFFFFF;\n",
              "    }\n",
              "  </style>\n",
              "\n",
              "      <script>\n",
              "        const buttonEl =\n",
              "          document.querySelector('#df-fc4c008b-76cc-4260-972a-3138c6f2b62b button.colab-df-convert');\n",
              "        buttonEl.style.display =\n",
              "          google.colab.kernel.accessAllowed ? 'block' : 'none';\n",
              "\n",
              "        async function convertToInteractive(key) {\n",
              "          const element = document.querySelector('#df-fc4c008b-76cc-4260-972a-3138c6f2b62b');\n",
              "          const dataTable =\n",
              "            await google.colab.kernel.invokeFunction('convertToInteractive',\n",
              "                                                     [key], {});\n",
              "          if (!dataTable) return;\n",
              "\n",
              "          const docLinkHtml = 'Like what you see? Visit the ' +\n",
              "            '<a target=\"_blank\" href=https://colab.research.google.com/notebooks/data_table.ipynb>data table notebook</a>'\n",
              "            + ' to learn more about interactive tables.';\n",
              "          element.innerHTML = '';\n",
              "          dataTable['output_type'] = 'display_data';\n",
              "          await google.colab.output.renderOutput(dataTable, element);\n",
              "          const docLink = document.createElement('div');\n",
              "          docLink.innerHTML = docLinkHtml;\n",
              "          element.appendChild(docLink);\n",
              "        }\n",
              "      </script>\n",
              "    </div>\n",
              "  </div>\n",
              "  "
            ]
          },
          "metadata": {},
          "execution_count": 32
        }
      ]
    },
    {
      "cell_type": "code",
      "source": [
        "for col in combined_df:\n",
        "    print(combined_df[col].unique())"
      ],
      "metadata": {
        "colab": {
          "base_uri": "https://localhost:8080/"
        },
        "id": "OvhlGvSOZUob",
        "outputId": "fd326d9e-3679-44e1-a8be-a7dd52c31dc1"
      },
      "execution_count": 33,
      "outputs": [
        {
          "output_type": "stream",
          "name": "stdout",
          "text": [
            "[39 50 38 53 28 37 49 52 31 42 30 23 32 40 34 25 43 54 35 59 56 19 20 45\n",
            " 22 48 21 24 57 44 41 29 18 47 46 36 79 27 67 33 76 17 55 61 70 64 71 68\n",
            " 66 51 58 26 60 90 75 65 77 62 63 80 72 74 69 73 81 78 88 82 83 84 85 86\n",
            " 87 89]\n",
            "['State-gov' 'Self-emp-not-inc' 'Private' 'Federal-gov' 'Local-gov'\n",
            " 'Self-emp-inc' 'Without-pay' 'Never-worked']\n",
            "[ 77516  83311 215646 ... 173449  89686 350977]\n",
            "[13  9  7 14  5 10 12 11  4 16 15  3  6  2  1  8]\n",
            "['Never-married' 'Married-civ-spouse' 'Divorced' 'Married-spouse-absent'\n",
            " 'Separated' 'Married-AF-spouse' 'Widowed']\n",
            "['Adm-clerical' 'Exec-managerial' 'Handlers-cleaners' 'Prof-specialty'\n",
            " 'Other-service' 'Sales' 'Craft-repair' 'Transport-moving'\n",
            " 'Farming-fishing' 'Machine-op-inspct' 'Tech-support' 'Protective-serv'\n",
            " 'Armed-Forces' 'Priv-house-serv']\n",
            "['Not-in-family' 'Husband' 'Wife' 'Own-child' 'Unmarried' 'Other-relative']\n",
            "['White' 'Black' 'Asian-Pac-Islander' 'Amer-Indian-Eskimo' 'Other']\n",
            "['Male' 'Female']\n",
            "[ 2174     0 14084  5178  5013  2407 14344 15024  7688 34095  4064  4386\n",
            "  7298  1409  3674  1055  3464  2050  2176   594 20051  6849  4101  1111\n",
            "  8614  3411  2597 25236  4650  9386  2463  3103 10605  2964  3325  2580\n",
            "  3471  4865 99999  6514  1471  2329  2105  2885 25124 10520  2202  2961\n",
            " 27828  6767  2228  1506 13550  2635  5556  4787  3781  3137  3818  3942\n",
            "   914   401  2829  2977  4934  2062  2354  5455 15020  1424  3273 22040\n",
            "  4416  3908 10566   991  4931  1086  7430  6497   114  7896  2346  3418\n",
            "  3432  2907  1151  2414  2290 15831 41310  4508  2538  3456  6418  1848\n",
            "  3887  5721  9562  1455  2036  1831 11678  2936  2993  7443  6360  1797\n",
            "  1173  4687  6723  2009  6097  2653  1639 18481  7978  2387  5060  1264\n",
            "  7262  1731  6612]\n",
            "[   0 2042 1408 1902 1573 1887 1719 1762 1564 2179 1816 1980 1977 1876\n",
            " 1340 2206 1741 1485 2339 2415 1380 1721 2051 2377 1669 2352 1672  653\n",
            " 2392 1504 2001 1590 1651 1628 1848 1740 2002 1579 2258 1602  419 2547\n",
            " 2174 2205 1726 2444 1138 2238  625  213 1539  880 1668 1092 1594 3004\n",
            " 2231 1844  810 2824 2559 2057 1974  974 2149 1825 1735 1258 2129 2603\n",
            " 2282  323 4356 2246 1617 1648 2489 3770 1755 3683 2267 2080 2457  155\n",
            " 3900 2201 1944 2467 2163 2754 2472 1411 1429 3175 1510 1870 1911 2465\n",
            " 1421]\n",
            "[40 13 16 45 50 80 30 35 60 20 52 44 15 25 38 43 55 48 58 32 70  2 22 56\n",
            " 41 28 36 24 46 42 12 65  1 10 34 75 98 33 54  8  6 64 19 18 72  5  9 47\n",
            " 37 21 26 14  4 59  7 99 53 39 62 57 78 90 66 11 49 84  3 17 68 27 85 31\n",
            " 51 77 63 23 87 88 73 89 97 94 29 96 67 82 86 91 81 76 92 61 74 95 79 69]\n",
            "['United-States' 'Cuba' 'Jamaica' 'India' 'Mexico' 'South' 'Puerto-Rico'\n",
            " 'Honduras' 'England' 'Canada' 'Germany' 'Iran' 'Philippines' 'Italy'\n",
            " 'Poland' 'Columbia' 'Cambodia' 'Thailand' 'Ecuador' 'Laos' 'Taiwan'\n",
            " 'Haiti' 'Portugal' 'Dominican-Republic' 'El-Salvador' 'France'\n",
            " 'Guatemala' 'China' 'Japan' 'Yugoslavia' 'Peru'\n",
            " 'Outlying-US(Guam-USVI-etc)' 'Scotland' 'Trinadad&Tobago' 'Greece'\n",
            " 'Nicaragua' 'Vietnam' 'Hong' 'Ireland' 'Hungary' 'Holand-Netherlands']\n",
            "['<=50K' '>50K']\n",
            "['Train' 'Test']\n"
          ]
        }
      ]
    },
    {
      "cell_type": "markdown",
      "source": [
        "**Data Visualization**"
      ],
      "metadata": {
        "id": "jhHianKwq99n"
      }
    },
    {
      "cell_type": "code",
      "source": [
        "# Plot a histogram of the features\n",
        "combined_df.hist(figsize=(10,10))\n",
        "plt.show()"
      ],
      "metadata": {
        "id": "QSnEgAfDrqTv",
        "colab": {
          "base_uri": "https://localhost:8080/",
          "height": 853
        },
        "outputId": "aea47029-145d-4b4e-e498-6b9ca81c54cd"
      },
      "execution_count": 35,
      "outputs": [
        {
          "output_type": "display_data",
          "data": {
            "text/plain": [
              "<Figure size 1000x1000 with 6 Axes>"
            ],
            "image/png": "[encoded data removed]"
          },
          "metadata": {}
        }
      ]
    },
    {
      "cell_type": "code",
      "source": [
        "# Check the distribution of the target variable\n",
        "sns.countplot(x='Income', data=combined_df)\n",
        "plt.title('Distribution of Incomes')\n",
        "plt.show()"
      ],
      "metadata": {
        "colab": {
          "base_uri": "https://localhost:8080/",
          "height": 472
        },
        "id": "aVtnK6t6rF0y",
        "outputId": "be83d678-1aa1-4570-d154-faf55c74cb3b"
      },
      "execution_count": 36,
      "outputs": [
        {
          "output_type": "display_data",
          "data": {
            "text/plain": [
              "<Figure size 640x480 with 1 Axes>"
            ],
            "image/png": "[encoded data removed]"
          },
          "metadata": {}
        }
      ]
    },
    {
      "cell_type": "code",
      "source": [
        "# Plot a correlation matrix of the features\n",
        "plt.figure(figsize=(5,5))\n",
        "sns.heatmap(combined_df.corr(numeric_only=True), cbar=True, annot=True, cmap='RdBu')\n",
        "plt.title('Correlation Matrix Heatmap')\n",
        "plt.show()"
      ],
      "metadata": {
        "colab": {
          "base_uri": "https://localhost:8080/",
          "height": 583
        },
        "id": "t8md2rpOsByW",
        "outputId": "bbcc55c1-45e2-48e8-f298-2102d613dbed"
      },
      "execution_count": 37,
      "outputs": [
        {
          "output_type": "display_data",
          "data": {
            "text/plain": [
              "<Figure size 500x500 with 2 Axes>"
            ],
            "image/png": "[encoded data removed]"
          },
          "metadata": {}
        }
      ]
    },
    {
      "cell_type": "markdown",
      "source": [
        "#Encoding"
      ],
      "metadata": {
        "id": "ifpAIzHuustw"
      }
    },
    {
      "cell_type": "markdown",
      "source": [
        "#Differences between One hot Encoding and Label Encoding"
      ],
      "metadata": {
        "id": "vO8Q4-XTu3i3"
      }
    },
    {
      "cell_type": "markdown",
      "source": [
        "Both one-hot encoding and label encoding are techniques used to represent categorical data as numerical data in machine learning models. However, they differ in the way they represent the data and the types of models they can be used with.\n",
        "\n",
        "One-hot encoding creates a new binary column for each category in the categorical variable. The value of each column is either 1 or 0 depending on whether or not that category is present for a given observation. For example, if we have a categorical variable \"color\" with categories \"red\", \"blue\", and \"green\", one-hot encoding would create three new columns \"color_red\", \"color_blue\", and \"color_green\", each with a value of 1 or 0 indicating whether that color is present for each observation.\n",
        "\n",
        "One-hot encoding is useful for categorical variables with no inherent order or hierarchy, such as color, shape, or product type. It is also useful for models that assume that each category is independent of the others, such as logistic regression or decision trees.\n",
        "\n",
        "Label encoding, on the other hand, assigns a numerical value to each category in the categorical variable. The values are assigned based on the order or hierarchy of the categories, with higher values representing higher ranks or importance. For example, if we have a categorical variable \"size\" with categories \"small\", \"medium\", and \"large\", label encoding might assign values of 0, 1, and 2, respectively.\n",
        "\n",
        "Label encoding is useful for categorical variables with an inherent order or hierarchy, such as size, age groups, or education levels. It is also useful for models that assume that there is a linear relationship between the numerical values and the outcome variable, such as linear regression or support vector machines.\n",
        "\n",
        "One potential drawback of label encoding is that it can introduce unintended relationships or biases into the data. For example, if we label encode \"education level\" with values 0-4 representing \"elementary school\", \"middle school\", \"high school\", \"college\", and \"graduate school\", respectively, the resulting values imply a linear relationship between education level and the outcome variable that may not be accurate. One-hot encoding avoids this issue by representing each category as independent of the others."
      ],
      "metadata": {
        "id": "dLYdbxTyuv04"
      }
    },
    {
      "cell_type": "code",
      "source": [
        "for col in combined_df.columns:\n",
        "  print(col)"
      ],
      "metadata": {
        "colab": {
          "base_uri": "https://localhost:8080/"
        },
        "id": "KpzHL7gsyDPF",
        "outputId": "c8abb33a-9f81-4409-cb30-32704f395bb7"
      },
      "execution_count": 38,
      "outputs": [
        {
          "output_type": "stream",
          "name": "stdout",
          "text": [
            "Age\n",
            "Work_Class\n",
            "Final_Weight\n",
            "Education-Number\n",
            "Marital_Status\n",
            "Occupation\n",
            "Relationship\n",
            "Race\n",
            "Sex\n",
            "Capital_Gain\n",
            "Capital_Loss\n",
            "Hours-Per-Week\n",
            "Native_Country\n",
            "Income\n",
            "Set\n"
          ]
        }
      ]
    },
    {
      "cell_type": "markdown",
      "source": [
        "One-hot encoding is useful for categorical variables with no inherent order or hierarchy and our categorial columns are in this type"
      ],
      "metadata": {
        "id": "cE9zarg1w_CG"
      }
    },
    {
      "cell_type": "code",
      "source": [
        "#get categorial columns\n",
        "cat_cols = ['Work_Class', 'Marital_Status', 'Occupation','Relationship','Race','Sex','Native_Country']\n",
        "# Create an instance of the OneHotEncoder class\n",
        "encoder = OneHotEncoder()\n",
        "\n",
        "# Encode the categorical columns using one-hot encoding\n",
        "encoded = pd.get_dummies(combined_df[cat_cols], columns=cat_cols)\n",
        "\n",
        "# Add the encoded columns back to the original DataFrame\n",
        "combined_df = pd.concat([combined_df, encoded], axis=1)\n",
        "\n",
        "# Drop the original categorical columns if desired\n",
        "combined_df = combined_df.drop(cat_cols, axis=1)\n"
      ],
      "metadata": {
        "id": "jiFdR6ltvMLC"
      },
      "execution_count": 39,
      "outputs": []
    },
    {
      "cell_type": "code",
      "source": [
        "print(combined_df.head().to_dict())"
      ],
      "metadata": {
        "colab": {
          "base_uri": "https://localhost:8080/"
        },
        "id": "J7rjpfOB9cZW",
        "outputId": "95a30c6b-4df2-406a-a4ce-2b98f9365d47"
      },
      "execution_count": 42,
      "outputs": [
        {
          "output_type": "stream",
          "name": "stdout",
          "text": [
            "{'Age': {0: 39, 1: 50, 2: 38, 3: 53, 4: 28}, 'Final_Weight': {0: 77516, 1: 83311, 2: 215646, 3: 234721, 4: 338409}, 'Education-Number': {0: 13, 1: 13, 2: 9, 3: 7, 4: 13}, 'Capital_Gain': {0: 2174, 1: 0, 2: 0, 3: 0, 4: 0}, 'Capital_Loss': {0: 0, 1: 0, 2: 0, 3: 0, 4: 0}, 'Hours-Per-Week': {0: 40, 1: 13, 2: 40, 3: 40, 4: 40}, 'Income': {0: '<=50K', 1: '<=50K', 2: '<=50K', 3: '<=50K', 4: '<=50K'}, 'Set': {0: 'Train', 1: 'Train', 2: 'Train', 3: 'Train', 4: 'Train'}, 'Work_Class_Federal-gov': {0: 0, 1: 0, 2: 0, 3: 0, 4: 0}, 'Work_Class_Local-gov': {0: 0, 1: 0, 2: 0, 3: 0, 4: 0}, 'Work_Class_Never-worked': {0: 0, 1: 0, 2: 0, 3: 0, 4: 0}, 'Work_Class_Private': {0: 0, 1: 0, 2: 1, 3: 1, 4: 1}, 'Work_Class_Self-emp-inc': {0: 0, 1: 0, 2: 0, 3: 0, 4: 0}, 'Work_Class_Self-emp-not-inc': {0: 0, 1: 1, 2: 0, 3: 0, 4: 0}, 'Work_Class_State-gov': {0: 1, 1: 0, 2: 0, 3: 0, 4: 0}, 'Work_Class_Without-pay': {0: 0, 1: 0, 2: 0, 3: 0, 4: 0}, 'Marital_Status_Divorced': {0: 0, 1: 0, 2: 1, 3: 0, 4: 0}, 'Marital_Status_Married-AF-spouse': {0: 0, 1: 0, 2: 0, 3: 0, 4: 0}, 'Marital_Status_Married-civ-spouse': {0: 0, 1: 1, 2: 0, 3: 1, 4: 1}, 'Marital_Status_Married-spouse-absent': {0: 0, 1: 0, 2: 0, 3: 0, 4: 0}, 'Marital_Status_Never-married': {0: 1, 1: 0, 2: 0, 3: 0, 4: 0}, 'Marital_Status_Separated': {0: 0, 1: 0, 2: 0, 3: 0, 4: 0}, 'Marital_Status_Widowed': {0: 0, 1: 0, 2: 0, 3: 0, 4: 0}, 'Occupation_Adm-clerical': {0: 1, 1: 0, 2: 0, 3: 0, 4: 0}, 'Occupation_Armed-Forces': {0: 0, 1: 0, 2: 0, 3: 0, 4: 0}, 'Occupation_Craft-repair': {0: 0, 1: 0, 2: 0, 3: 0, 4: 0}, 'Occupation_Exec-managerial': {0: 0, 1: 1, 2: 0, 3: 0, 4: 0}, 'Occupation_Farming-fishing': {0: 0, 1: 0, 2: 0, 3: 0, 4: 0}, 'Occupation_Handlers-cleaners': {0: 0, 1: 0, 2: 1, 3: 1, 4: 0}, 'Occupation_Machine-op-inspct': {0: 0, 1: 0, 2: 0, 3: 0, 4: 0}, 'Occupation_Other-service': {0: 0, 1: 0, 2: 0, 3: 0, 4: 0}, 'Occupation_Priv-house-serv': {0: 0, 1: 0, 2: 0, 3: 0, 4: 0}, 'Occupation_Prof-specialty': {0: 0, 1: 0, 2: 0, 3: 0, 4: 1}, 'Occupation_Protective-serv': {0: 0, 1: 0, 2: 0, 3: 0, 4: 0}, 'Occupation_Sales': {0: 0, 1: 0, 2: 0, 3: 0, 4: 0}, 'Occupation_Tech-support': {0: 0, 1: 0, 2: 0, 3: 0, 4: 0}, 'Occupation_Transport-moving': {0: 0, 1: 0, 2: 0, 3: 0, 4: 0}, 'Relationship_Husband': {0: 0, 1: 1, 2: 0, 3: 1, 4: 0}, 'Relationship_Not-in-family': {0: 1, 1: 0, 2: 1, 3: 0, 4: 0}, 'Relationship_Other-relative': {0: 0, 1: 0, 2: 0, 3: 0, 4: 0}, 'Relationship_Own-child': {0: 0, 1: 0, 2: 0, 3: 0, 4: 0}, 'Relationship_Unmarried': {0: 0, 1: 0, 2: 0, 3: 0, 4: 0}, 'Relationship_Wife': {0: 0, 1: 0, 2: 0, 3: 0, 4: 1}, 'Race_Amer-Indian-Eskimo': {0: 0, 1: 0, 2: 0, 3: 0, 4: 0}, 'Race_Asian-Pac-Islander': {0: 0, 1: 0, 2: 0, 3: 0, 4: 0}, 'Race_Black': {0: 0, 1: 0, 2: 0, 3: 1, 4: 1}, 'Race_Other': {0: 0, 1: 0, 2: 0, 3: 0, 4: 0}, 'Race_White': {0: 1, 1: 1, 2: 1, 3: 0, 4: 0}, 'Sex_Female': {0: 0, 1: 0, 2: 0, 3: 0, 4: 1}, 'Sex_Male': {0: 1, 1: 1, 2: 1, 3: 1, 4: 0}, 'Native_Country_Cambodia': {0: 0, 1: 0, 2: 0, 3: 0, 4: 0}, 'Native_Country_Canada': {0: 0, 1: 0, 2: 0, 3: 0, 4: 0}, 'Native_Country_China': {0: 0, 1: 0, 2: 0, 3: 0, 4: 0}, 'Native_Country_Columbia': {0: 0, 1: 0, 2: 0, 3: 0, 4: 0}, 'Native_Country_Cuba': {0: 0, 1: 0, 2: 0, 3: 0, 4: 1}, 'Native_Country_Dominican-Republic': {0: 0, 1: 0, 2: 0, 3: 0, 4: 0}, 'Native_Country_Ecuador': {0: 0, 1: 0, 2: 0, 3: 0, 4: 0}, 'Native_Country_El-Salvador': {0: 0, 1: 0, 2: 0, 3: 0, 4: 0}, 'Native_Country_England': {0: 0, 1: 0, 2: 0, 3: 0, 4: 0}, 'Native_Country_France': {0: 0, 1: 0, 2: 0, 3: 0, 4: 0}, 'Native_Country_Germany': {0: 0, 1: 0, 2: 0, 3: 0, 4: 0}, 'Native_Country_Greece': {0: 0, 1: 0, 2: 0, 3: 0, 4: 0}, 'Native_Country_Guatemala': {0: 0, 1: 0, 2: 0, 3: 0, 4: 0}, 'Native_Country_Haiti': {0: 0, 1: 0, 2: 0, 3: 0, 4: 0}, 'Native_Country_Holand-Netherlands': {0: 0, 1: 0, 2: 0, 3: 0, 4: 0}, 'Native_Country_Honduras': {0: 0, 1: 0, 2: 0, 3: 0, 4: 0}, 'Native_Country_Hong': {0: 0, 1: 0, 2: 0, 3: 0, 4: 0}, 'Native_Country_Hungary': {0: 0, 1: 0, 2: 0, 3: 0, 4: 0}, 'Native_Country_India': {0: 0, 1: 0, 2: 0, 3: 0, 4: 0}, 'Native_Country_Iran': {0: 0, 1: 0, 2: 0, 3: 0, 4: 0}, 'Native_Country_Ireland': {0: 0, 1: 0, 2: 0, 3: 0, 4: 0}, 'Native_Country_Italy': {0: 0, 1: 0, 2: 0, 3: 0, 4: 0}, 'Native_Country_Jamaica': {0: 0, 1: 0, 2: 0, 3: 0, 4: 0}, 'Native_Country_Japan': {0: 0, 1: 0, 2: 0, 3: 0, 4: 0}, 'Native_Country_Laos': {0: 0, 1: 0, 2: 0, 3: 0, 4: 0}, 'Native_Country_Mexico': {0: 0, 1: 0, 2: 0, 3: 0, 4: 0}, 'Native_Country_Nicaragua': {0: 0, 1: 0, 2: 0, 3: 0, 4: 0}, 'Native_Country_Outlying-US(Guam-USVI-etc)': {0: 0, 1: 0, 2: 0, 3: 0, 4: 0}, 'Native_Country_Peru': {0: 0, 1: 0, 2: 0, 3: 0, 4: 0}, 'Native_Country_Philippines': {0: 0, 1: 0, 2: 0, 3: 0, 4: 0}, 'Native_Country_Poland': {0: 0, 1: 0, 2: 0, 3: 0, 4: 0}, 'Native_Country_Portugal': {0: 0, 1: 0, 2: 0, 3: 0, 4: 0}, 'Native_Country_Puerto-Rico': {0: 0, 1: 0, 2: 0, 3: 0, 4: 0}, 'Native_Country_Scotland': {0: 0, 1: 0, 2: 0, 3: 0, 4: 0}, 'Native_Country_South': {0: 0, 1: 0, 2: 0, 3: 0, 4: 0}, 'Native_Country_Taiwan': {0: 0, 1: 0, 2: 0, 3: 0, 4: 0}, 'Native_Country_Thailand': {0: 0, 1: 0, 2: 0, 3: 0, 4: 0}, 'Native_Country_Trinadad&Tobago': {0: 0, 1: 0, 2: 0, 3: 0, 4: 0}, 'Native_Country_United-States': {0: 1, 1: 1, 2: 1, 3: 1, 4: 0}, 'Native_Country_Vietnam': {0: 0, 1: 0, 2: 0, 3: 0, 4: 0}, 'Native_Country_Yugoslavia': {0: 0, 1: 0, 2: 0, 3: 0, 4: 0}}\n"
          ]
        }
      ]
    },
    {
      "cell_type": "code",
      "source": [
        "for col in combined_df.columns:\n",
        "  print(col)"
      ],
      "metadata": {
        "colab": {
          "base_uri": "https://localhost:8080/"
        },
        "id": "8I-kECs70mUK",
        "outputId": "f50a1abd-7be6-4583-aebc-7022d6fdaa06"
      },
      "execution_count": 43,
      "outputs": [
        {
          "output_type": "stream",
          "name": "stdout",
          "text": [
            "Age\n",
            "Final_Weight\n",
            "Education-Number\n",
            "Capital_Gain\n",
            "Capital_Loss\n",
            "Hours-Per-Week\n",
            "Income\n",
            "Set\n",
            "Work_Class_Federal-gov\n",
            "Work_Class_Local-gov\n",
            "Work_Class_Never-worked\n",
            "Work_Class_Private\n",
            "Work_Class_Self-emp-inc\n",
            "Work_Class_Self-emp-not-inc\n",
            "Work_Class_State-gov\n",
            "Work_Class_Without-pay\n",
            "Marital_Status_Divorced\n",
            "Marital_Status_Married-AF-spouse\n",
            "Marital_Status_Married-civ-spouse\n",
            "Marital_Status_Married-spouse-absent\n",
            "Marital_Status_Never-married\n",
            "Marital_Status_Separated\n",
            "Marital_Status_Widowed\n",
            "Occupation_Adm-clerical\n",
            "Occupation_Armed-Forces\n",
            "Occupation_Craft-repair\n",
            "Occupation_Exec-managerial\n",
            "Occupation_Farming-fishing\n",
            "Occupation_Handlers-cleaners\n",
            "Occupation_Machine-op-inspct\n",
            "Occupation_Other-service\n",
            "Occupation_Priv-house-serv\n",
            "Occupation_Prof-specialty\n",
            "Occupation_Protective-serv\n",
            "Occupation_Sales\n",
            "Occupation_Tech-support\n",
            "Occupation_Transport-moving\n",
            "Relationship_Husband\n",
            "Relationship_Not-in-family\n",
            "Relationship_Other-relative\n",
            "Relationship_Own-child\n",
            "Relationship_Unmarried\n",
            "Relationship_Wife\n",
            "Race_Amer-Indian-Eskimo\n",
            "Race_Asian-Pac-Islander\n",
            "Race_Black\n",
            "Race_Other\n",
            "Race_White\n",
            "Sex_Female\n",
            "Sex_Male\n",
            "Native_Country_Cambodia\n",
            "Native_Country_Canada\n",
            "Native_Country_China\n",
            "Native_Country_Columbia\n",
            "Native_Country_Cuba\n",
            "Native_Country_Dominican-Republic\n",
            "Native_Country_Ecuador\n",
            "Native_Country_El-Salvador\n",
            "Native_Country_England\n",
            "Native_Country_France\n",
            "Native_Country_Germany\n",
            "Native_Country_Greece\n",
            "Native_Country_Guatemala\n",
            "Native_Country_Haiti\n",
            "Native_Country_Holand-Netherlands\n",
            "Native_Country_Honduras\n",
            "Native_Country_Hong\n",
            "Native_Country_Hungary\n",
            "Native_Country_India\n",
            "Native_Country_Iran\n",
            "Native_Country_Ireland\n",
            "Native_Country_Italy\n",
            "Native_Country_Jamaica\n",
            "Native_Country_Japan\n",
            "Native_Country_Laos\n",
            "Native_Country_Mexico\n",
            "Native_Country_Nicaragua\n",
            "Native_Country_Outlying-US(Guam-USVI-etc)\n",
            "Native_Country_Peru\n",
            "Native_Country_Philippines\n",
            "Native_Country_Poland\n",
            "Native_Country_Portugal\n",
            "Native_Country_Puerto-Rico\n",
            "Native_Country_Scotland\n",
            "Native_Country_South\n",
            "Native_Country_Taiwan\n",
            "Native_Country_Thailand\n",
            "Native_Country_Trinadad&Tobago\n",
            "Native_Country_United-States\n",
            "Native_Country_Vietnam\n",
            "Native_Country_Yugoslavia\n"
          ]
        }
      ]
    },
    {
      "cell_type": "markdown",
      "source": [
        "#Normalization  "
      ],
      "metadata": {
        "id": "GQDhw_Vr_yva"
      }
    },
    {
      "cell_type": "code",
      "source": [
        "from sklearn.preprocessing import MinMaxScaler\n",
        "# Normalize the first 6 columns of the DataFrame\n",
        "scaler = MinMaxScaler()\n",
        "combined_df.iloc[:, :6] = scaler.fit_transform(combined_df.iloc[:, :6])"
      ],
      "metadata": {
        "id": "FDRAqxIm_6yR"
      },
      "execution_count": 44,
      "outputs": []
    },
    {
      "cell_type": "code",
      "source": [
        "print(combined_df.head().to_dict())"
      ],
      "metadata": {
        "colab": {
          "base_uri": "https://localhost:8080/"
        },
        "id": "gGSlIHHpMCCF",
        "outputId": "25065d38-ef05-4377-c23a-fe4e113408a5"
      },
      "execution_count": 45,
      "outputs": [
        {
          "output_type": "stream",
          "name": "stdout",
          "text": [
            "{'Age': {0: 0.30136986301369856, 1: 0.4520547945205479, 2: 0.2876712328767123, 3: 0.4931506849315069, 4: 0.1506849315068493}, 'Final_Weight': {0: 0.04413120765299046, 1: 0.04805174157626436, 2: 0.13758131133233883, 3: 0.1504862612178349, 4: 0.2206350656072092}, 'Education-Number': {0: 0.8, 1: 0.8, 2: 0.5333333333333333, 3: 0.4, 4: 0.8}, 'Capital_Gain': {0: 0.021740217402174022, 1: 0.0, 2: 0.0, 3: 0.0, 4: 0.0}, 'Capital_Loss': {0: 0.0, 1: 0.0, 2: 0.0, 3: 0.0, 4: 0.0}, 'Hours-Per-Week': {0: 0.39795918367346933, 1: 0.12244897959183672, 2: 0.39795918367346933, 3: 0.39795918367346933, 4: 0.39795918367346933}, 'Income': {0: '<=50K', 1: '<=50K', 2: '<=50K', 3: '<=50K', 4: '<=50K'}, 'Set': {0: 'Train', 1: 'Train', 2: 'Train', 3: 'Train', 4: 'Train'}, 'Work_Class_Federal-gov': {0: 0, 1: 0, 2: 0, 3: 0, 4: 0}, 'Work_Class_Local-gov': {0: 0, 1: 0, 2: 0, 3: 0, 4: 0}, 'Work_Class_Never-worked': {0: 0, 1: 0, 2: 0, 3: 0, 4: 0}, 'Work_Class_Private': {0: 0, 1: 0, 2: 1, 3: 1, 4: 1}, 'Work_Class_Self-emp-inc': {0: 0, 1: 0, 2: 0, 3: 0, 4: 0}, 'Work_Class_Self-emp-not-inc': {0: 0, 1: 1, 2: 0, 3: 0, 4: 0}, 'Work_Class_State-gov': {0: 1, 1: 0, 2: 0, 3: 0, 4: 0}, 'Work_Class_Without-pay': {0: 0, 1: 0, 2: 0, 3: 0, 4: 0}, 'Marital_Status_Divorced': {0: 0, 1: 0, 2: 1, 3: 0, 4: 0}, 'Marital_Status_Married-AF-spouse': {0: 0, 1: 0, 2: 0, 3: 0, 4: 0}, 'Marital_Status_Married-civ-spouse': {0: 0, 1: 1, 2: 0, 3: 1, 4: 1}, 'Marital_Status_Married-spouse-absent': {0: 0, 1: 0, 2: 0, 3: 0, 4: 0}, 'Marital_Status_Never-married': {0: 1, 1: 0, 2: 0, 3: 0, 4: 0}, 'Marital_Status_Separated': {0: 0, 1: 0, 2: 0, 3: 0, 4: 0}, 'Marital_Status_Widowed': {0: 0, 1: 0, 2: 0, 3: 0, 4: 0}, 'Occupation_Adm-clerical': {0: 1, 1: 0, 2: 0, 3: 0, 4: 0}, 'Occupation_Armed-Forces': {0: 0, 1: 0, 2: 0, 3: 0, 4: 0}, 'Occupation_Craft-repair': {0: 0, 1: 0, 2: 0, 3: 0, 4: 0}, 'Occupation_Exec-managerial': {0: 0, 1: 1, 2: 0, 3: 0, 4: 0}, 'Occupation_Farming-fishing': {0: 0, 1: 0, 2: 0, 3: 0, 4: 0}, 'Occupation_Handlers-cleaners': {0: 0, 1: 0, 2: 1, 3: 1, 4: 0}, 'Occupation_Machine-op-inspct': {0: 0, 1: 0, 2: 0, 3: 0, 4: 0}, 'Occupation_Other-service': {0: 0, 1: 0, 2: 0, 3: 0, 4: 0}, 'Occupation_Priv-house-serv': {0: 0, 1: 0, 2: 0, 3: 0, 4: 0}, 'Occupation_Prof-specialty': {0: 0, 1: 0, 2: 0, 3: 0, 4: 1}, 'Occupation_Protective-serv': {0: 0, 1: 0, 2: 0, 3: 0, 4: 0}, 'Occupation_Sales': {0: 0, 1: 0, 2: 0, 3: 0, 4: 0}, 'Occupation_Tech-support': {0: 0, 1: 0, 2: 0, 3: 0, 4: 0}, 'Occupation_Transport-moving': {0: 0, 1: 0, 2: 0, 3: 0, 4: 0}, 'Relationship_Husband': {0: 0, 1: 1, 2: 0, 3: 1, 4: 0}, 'Relationship_Not-in-family': {0: 1, 1: 0, 2: 1, 3: 0, 4: 0}, 'Relationship_Other-relative': {0: 0, 1: 0, 2: 0, 3: 0, 4: 0}, 'Relationship_Own-child': {0: 0, 1: 0, 2: 0, 3: 0, 4: 0}, 'Relationship_Unmarried': {0: 0, 1: 0, 2: 0, 3: 0, 4: 0}, 'Relationship_Wife': {0: 0, 1: 0, 2: 0, 3: 0, 4: 1}, 'Race_Amer-Indian-Eskimo': {0: 0, 1: 0, 2: 0, 3: 0, 4: 0}, 'Race_Asian-Pac-Islander': {0: 0, 1: 0, 2: 0, 3: 0, 4: 0}, 'Race_Black': {0: 0, 1: 0, 2: 0, 3: 1, 4: 1}, 'Race_Other': {0: 0, 1: 0, 2: 0, 3: 0, 4: 0}, 'Race_White': {0: 1, 1: 1, 2: 1, 3: 0, 4: 0}, 'Sex_Female': {0: 0, 1: 0, 2: 0, 3: 0, 4: 1}, 'Sex_Male': {0: 1, 1: 1, 2: 1, 3: 1, 4: 0}, 'Native_Country_Cambodia': {0: 0, 1: 0, 2: 0, 3: 0, 4: 0}, 'Native_Country_Canada': {0: 0, 1: 0, 2: 0, 3: 0, 4: 0}, 'Native_Country_China': {0: 0, 1: 0, 2: 0, 3: 0, 4: 0}, 'Native_Country_Columbia': {0: 0, 1: 0, 2: 0, 3: 0, 4: 0}, 'Native_Country_Cuba': {0: 0, 1: 0, 2: 0, 3: 0, 4: 1}, 'Native_Country_Dominican-Republic': {0: 0, 1: 0, 2: 0, 3: 0, 4: 0}, 'Native_Country_Ecuador': {0: 0, 1: 0, 2: 0, 3: 0, 4: 0}, 'Native_Country_El-Salvador': {0: 0, 1: 0, 2: 0, 3: 0, 4: 0}, 'Native_Country_England': {0: 0, 1: 0, 2: 0, 3: 0, 4: 0}, 'Native_Country_France': {0: 0, 1: 0, 2: 0, 3: 0, 4: 0}, 'Native_Country_Germany': {0: 0, 1: 0, 2: 0, 3: 0, 4: 0}, 'Native_Country_Greece': {0: 0, 1: 0, 2: 0, 3: 0, 4: 0}, 'Native_Country_Guatemala': {0: 0, 1: 0, 2: 0, 3: 0, 4: 0}, 'Native_Country_Haiti': {0: 0, 1: 0, 2: 0, 3: 0, 4: 0}, 'Native_Country_Holand-Netherlands': {0: 0, 1: 0, 2: 0, 3: 0, 4: 0}, 'Native_Country_Honduras': {0: 0, 1: 0, 2: 0, 3: 0, 4: 0}, 'Native_Country_Hong': {0: 0, 1: 0, 2: 0, 3: 0, 4: 0}, 'Native_Country_Hungary': {0: 0, 1: 0, 2: 0, 3: 0, 4: 0}, 'Native_Country_India': {0: 0, 1: 0, 2: 0, 3: 0, 4: 0}, 'Native_Country_Iran': {0: 0, 1: 0, 2: 0, 3: 0, 4: 0}, 'Native_Country_Ireland': {0: 0, 1: 0, 2: 0, 3: 0, 4: 0}, 'Native_Country_Italy': {0: 0, 1: 0, 2: 0, 3: 0, 4: 0}, 'Native_Country_Jamaica': {0: 0, 1: 0, 2: 0, 3: 0, 4: 0}, 'Native_Country_Japan': {0: 0, 1: 0, 2: 0, 3: 0, 4: 0}, 'Native_Country_Laos': {0: 0, 1: 0, 2: 0, 3: 0, 4: 0}, 'Native_Country_Mexico': {0: 0, 1: 0, 2: 0, 3: 0, 4: 0}, 'Native_Country_Nicaragua': {0: 0, 1: 0, 2: 0, 3: 0, 4: 0}, 'Native_Country_Outlying-US(Guam-USVI-etc)': {0: 0, 1: 0, 2: 0, 3: 0, 4: 0}, 'Native_Country_Peru': {0: 0, 1: 0, 2: 0, 3: 0, 4: 0}, 'Native_Country_Philippines': {0: 0, 1: 0, 2: 0, 3: 0, 4: 0}, 'Native_Country_Poland': {0: 0, 1: 0, 2: 0, 3: 0, 4: 0}, 'Native_Country_Portugal': {0: 0, 1: 0, 2: 0, 3: 0, 4: 0}, 'Native_Country_Puerto-Rico': {0: 0, 1: 0, 2: 0, 3: 0, 4: 0}, 'Native_Country_Scotland': {0: 0, 1: 0, 2: 0, 3: 0, 4: 0}, 'Native_Country_South': {0: 0, 1: 0, 2: 0, 3: 0, 4: 0}, 'Native_Country_Taiwan': {0: 0, 1: 0, 2: 0, 3: 0, 4: 0}, 'Native_Country_Thailand': {0: 0, 1: 0, 2: 0, 3: 0, 4: 0}, 'Native_Country_Trinadad&Tobago': {0: 0, 1: 0, 2: 0, 3: 0, 4: 0}, 'Native_Country_United-States': {0: 1, 1: 1, 2: 1, 3: 1, 4: 0}, 'Native_Country_Vietnam': {0: 0, 1: 0, 2: 0, 3: 0, 4: 0}, 'Native_Country_Yugoslavia': {0: 0, 1: 0, 2: 0, 3: 0, 4: 0}}\n"
          ]
        }
      ]
    },
    {
      "cell_type": "code",
      "source": [
        "# Group the DataFrame by the 'Set' column\n",
        "grouped = combined_df.groupby('Set')\n",
        "\n",
        "# Split the DataFrame into separate groups\n",
        "df_train = grouped.get_group('Train')\n",
        "df_test = grouped.get_group('Test')\n",
        "\n",
        "df_train=df_train.drop('Set', axis=1)\n",
        "df_test=df_test.drop('Set', axis=1)\n",
        "\n",
        "X_train = df_train.drop('Income', axis=1)\n",
        "y_train = df_train['Income']\n",
        "\n",
        "X_test = df_test.drop('Income', axis=1)\n",
        "y_test = df_test['Income']\n"
      ],
      "metadata": {
        "id": "K_ujPIEjd8Ob"
      },
      "execution_count": 46,
      "outputs": []
    },
    {
      "cell_type": "markdown",
      "source": [
        "# SVM"
      ],
      "metadata": {
        "id": "E9-RJBSzcY8V"
      }
    },
    {
      "cell_type": "code",
      "source": [
        "# Initialize SVM model with linear kernel\n",
        "svm_model = SVC(kernel='linear')\n",
        "\n",
        "# Train the model using the training data\n",
        "svm_model.fit(X_train, y_train)\n",
        "\n",
        "# Predict the target values for the test data\n",
        "y_pred = svm_model.predict(X_test)"
      ],
      "metadata": {
        "id": "CO9DQE-Mpgsk"
      },
      "execution_count": 47,
      "outputs": []
    },
    {
      "cell_type": "code",
      "source": [
        "# Confusion matrix\n",
        "cmt = confusion_matrix(y_test, y_pred)\n",
        "cmn = cmt.astype('float') / cmt.sum(axis=1)[:, np.newaxis]\n",
        "\n",
        "sns.heatmap(cmn, annot=True)\n",
        "\n",
        "plt.title('Confusion Matrix')\n",
        "plt.xlabel('Predicted Label')\n",
        "plt.ylabel('True Label')\n",
        "plt.show()\n",
        "\n",
        "# Compute and print metrics\n",
        "print(\"Accuracy:\", accuracy_score(y_test, y_pred))\n",
        "print(\"Precision:\", precision_score(y_test, y_pred, pos_label='>50K'))\n",
        "print(\"Recall:\", recall_score(y_test, y_pred, pos_label='>50K'))\n",
        "print(\"F1 Score:\", f1_score(y_test, y_pred, pos_label='>50K'))\n",
        "\n",
        "# Classification Report\n",
        "print(\"Classification Report: \\n\", classification_report(y_test, y_pred))"
      ],
      "metadata": {
        "colab": {
          "base_uri": "https://localhost:8080/",
          "height": 723
        },
        "id": "mj3MQKT7pw8R",
        "outputId": "3f0338d2-a15a-49aa-b0df-a059dbe0c5be"
      },
      "execution_count": 49,
      "outputs": [
        {
          "output_type": "display_data",
          "data": {
            "text/plain": [
              "<Figure size 640x480 with 2 Axes>"
            ],
            "image/png": "[encoded data removed]"
          },
          "metadata": {}
        },
        {
          "output_type": "stream",
          "name": "stdout",
          "text": [
            "Accuracy: 0.8520361157177078\n",
            "Precision: 0.735651033125615\n",
            "Recall: 0.5832033281331254\n",
            "F1 Score: 0.6506163886874547\n",
            "Classification Report: \n",
            "               precision    recall  f1-score   support\n",
            "\n",
            "       <=50K       0.88      0.94      0.91     12435\n",
            "        >50K       0.74      0.58      0.65      3846\n",
            "\n",
            "    accuracy                           0.85     16281\n",
            "   macro avg       0.81      0.76      0.78     16281\n",
            "weighted avg       0.85      0.85      0.85     16281\n",
            "\n"
          ]
        }
      ]
    },
    {
      "cell_type": "markdown",
      "source": [
        "# KNN"
      ],
      "metadata": {
        "id": "uwSOBf4Oc7hh"
      }
    },
    {
      "cell_type": "code",
      "source": [
        "# Create a k-NN classifier with 20 neighbors and fit it to the training data\n",
        "knn = KNeighborsClassifier(n_neighbors=20)\n",
        "knn.fit(X_train, y_train)\n",
        "\n",
        "# Predict the labels of the test data: y_pred\n",
        "y_pred = knn.predict(X_test)\n",
        "\n",
        "# Confusion matrix\n",
        "cm = confusion_matrix(y_test, y_pred)\n",
        "cmn = cm.astype('float') / cm.sum(axis=1)[:, np.newaxis]\n",
        "sns.heatmap(cmn, annot=True)\n",
        "\n",
        "plt.title('Confusion Matrix')\n",
        "plt.xlabel('Predicted Label')\n",
        "plt.ylabel('True Label')\n",
        "plt.show()\n",
        "\n",
        "# Compute and print metrics\n",
        "print(\"Accuracy:\", accuracy_score(y_test, y_pred))\n",
        "print(\"Precision:\", precision_score(y_test, y_pred, pos_label='>50K'))\n",
        "print(\"Recall:\", recall_score(y_test, y_pred, pos_label='>50K'))\n",
        "print(\"F1 Score:\", f1_score(y_test, y_pred, pos_label='>50K'))\n",
        "\n",
        "# Classification Report\n",
        "print(\"Classification Report: \\n\", classification_report(y_test, y_pred))"
      ],
      "metadata": {
        "colab": {
          "base_uri": "https://localhost:8080/",
          "height": 715
        },
        "id": "lxl9hqW5mRJ0",
        "outputId": "53f8929e-00ef-4f33-8100-ca199114a735"
      },
      "execution_count": null,
      "outputs": [
        {
          "output_type": "display_data",
          "data": {
            "text/plain": [
              "<Figure size 640x480 with 2 Axes>"
            ],
            "image/png": "[encoded data removed]"
          },
          "metadata": {}
        },
        {
          "output_type": "stream",
          "name": "stdout",
          "text": [
            "Accuracy: 0.8350838400589644\n",
            "Precision: 0.6936936936936937\n",
            "Recall: 0.5405616224648986\n",
            "F1 Score: 0.607628233231039\n",
            "Classification Report: \n",
            "               precision    recall  f1-score   support\n",
            "\n",
            "       <=50K       0.87      0.93      0.90     12435\n",
            "        >50K       0.69      0.54      0.61      3846\n",
            "\n",
            "    accuracy                           0.84     16281\n",
            "   macro avg       0.78      0.73      0.75     16281\n",
            "weighted avg       0.83      0.84      0.83     16281\n",
            "\n"
          ]
        }
      ]
    },
    {
      "cell_type": "markdown",
      "source": [
        "# Decision tree"
      ],
      "metadata": {
        "id": "9a_s2yFec-TD"
      }
    },
    {
      "cell_type": "code",
      "source": [
        "# Create a Decision Tree classifier with and fit it to the training data\n",
        "clf = DecisionTreeClassifier()\n",
        "clf = clf.fit(X_train, y_train)\n",
        "y_pred_tree = clf.predict(X_test)\n",
        "\n"
      ],
      "metadata": {
        "id": "BNCGloerhvR-"
      },
      "execution_count": null,
      "outputs": []
    },
    {
      "cell_type": "code",
      "source": [
        "# Confusion matrix\n",
        "cmt = confusion_matrix(y_test, y_pred_tree)\n",
        "cmn = cmt.astype('float') / cmt.sum(axis=1)[:, np.newaxis]\n",
        "\n",
        "sns.heatmap(cmn, annot=True)\n",
        "\n",
        "plt.title('Confusion Matrix')\n",
        "plt.xlabel('Predicted Label')\n",
        "plt.ylabel('True Label')\n",
        "plt.show()\n",
        "\n",
        "# Compute and print metrics\n",
        "print(\"Accuracy:\", accuracy_score(y_test, y_pred_tree))\n",
        "print(\"Precision:\", precision_score(y_test, y_pred_tree, pos_label='>50K'))\n",
        "print(\"Recall:\", recall_score(y_test, y_pred_tree, pos_label='>50K'))\n",
        "print(\"F1 Score:\", f1_score(y_test, y_pred_tree, pos_label='>50K'))\n",
        "\n",
        "# Classification Report\n",
        "print(\"Classification Report: \\n\", classification_report(y_test, y_pred_tree))\n"
      ],
      "metadata": {
        "id": "ZWX0qN1SlWHw",
        "colab": {
          "base_uri": "https://localhost:8080/",
          "height": 715
        },
        "outputId": "a6e5bf1b-4e55-46e3-93f0-be27cce8edc0"
      },
      "execution_count": null,
      "outputs": [
        {
          "output_type": "display_data",
          "data": {
            "text/plain": [
              "<Figure size 640x480 with 2 Axes>"
            ],
            "image/png": "[encoded data removed]"
          },
          "metadata": {}
        },
        {
          "output_type": "stream",
          "name": "stdout",
          "text": [
            "Accuracy: 0.8135249677538234\n",
            "Precision: 0.6027918781725888\n",
            "Recall: 0.6175247009880396\n",
            "F1 Score: 0.6100693552530183\n",
            "Classification Report: \n",
            "               precision    recall  f1-score   support\n",
            "\n",
            "       <=50K       0.88      0.87      0.88     12435\n",
            "        >50K       0.60      0.62      0.61      3846\n",
            "\n",
            "    accuracy                           0.81     16281\n",
            "   macro avg       0.74      0.75      0.74     16281\n",
            "weighted avg       0.82      0.81      0.81     16281\n",
            "\n"
          ]
        }
      ]
    },
    {
      "cell_type": "markdown",
      "source": [
        "# Result\n",
        "\n",
        "Compare KNN, SVM and Decision Tree classifiers by evaluation metrics (F1-score, recall, precision, and accuracy) "
      ],
      "metadata": {
        "id": "GwG2MJpbpbtZ"
      }
    },
    {
      "cell_type": "markdown",
      "source": [
        "Accuracy :  SVM > KNN > Decesion Tree\n"
      ],
      "metadata": {
        "id": "cj_vSMZPrdBK"
      }
    },
    {
      "cell_type": "markdown",
      "source": [
        "Precision : SVM > KNN > Decesion Tree"
      ],
      "metadata": {
        "id": "9y6kXFUXsj87"
      }
    },
    {
      "cell_type": "markdown",
      "source": [
        "Recall : Decesion Tree > SVM >  KNN \n"
      ],
      "metadata": {
        "id": "41T_9FLap8fm"
      }
    },
    {
      "cell_type": "markdown",
      "source": [
        "F1-Score : SVM > Decesion Tree > KNN"
      ],
      "metadata": {
        "id": "u5VYpLqCspND"
      }
    }
  ]
}